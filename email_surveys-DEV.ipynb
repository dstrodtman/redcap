{
 "cells": [
  {
   "cell_type": "code",
   "execution_count": 1,
   "metadata": {
    "collapsed": true
   },
   "outputs": [],
   "source": [
    "#!/usr/bin/env python3\n",
    "\n",
    "\n",
    "# import necessary modules\n",
    "import smtplib\n",
    "import pandas as pd\n",
    "import os\n",
    "import glob\n",
    "import sys\n",
    "\n",
    "from email.mime.multipart import MIMEMultipart\n",
    "from email.mime.text import MIMEText"
   ]
  },
  {
   "cell_type": "code",
   "execution_count": 2,
   "metadata": {
    "collapsed": true
   },
   "outputs": [],
   "source": [
    "# set home directory so can be used on all OS\n",
    "home = os.path.expanduser('~')"
   ]
  },
  {
   "cell_type": "code",
   "execution_count": 3,
   "metadata": {
    "collapsed": true
   },
   "outputs": [],
   "source": [
    "# Find most recently exported files from registry and repository\n",
    "# reg_file should be report XX\n",
    "# repo_file should be report XX\n",
    "# link_file should be downloaded from XX as according to wiki\n",
    "reg_file = max(glob.iglob(home+'/Downloads/RDRPRegistry_DATA_*'), key=os.path.getctime)\n",
    "repo_file = max(glob.iglob(home+'/Downloads/RDRPRepository_DATA_*'), key=os.path.getctime)\n",
    "link_file = max(glob.iglob(home+'/Downloads/RDRPRepository_Participants_*'), key=os.path.getctime)"
   ]
  },
  {
   "cell_type": "code",
   "execution_count": 4,
   "metadata": {
    "collapsed": false
   },
   "outputs": [
    {
     "name": "stdout",
     "output_type": "stream",
     "text": [
      "/home/pdonnelly/Downloads/RDRPRegistry_DATA_2018-09-12_1336.csv\n",
      "/home/pdonnelly/Downloads/RDRPRepository_DATA_2018-09-12_1337.csv\n",
      "/home/pdonnelly/Downloads/RDRPRepository_Participants_2018-09-12_1337.csv\n"
     ]
    }
   ],
   "source": [
    "print(reg_file)\n",
    "print(repo_file)\n",
    "print(link_file)"
   ]
  },
  {
   "cell_type": "code",
   "execution_count": 5,
   "metadata": {
    "collapsed": false
   },
   "outputs": [],
   "source": [
    "# Load data from each using record_id as index\n",
    "reg_data = pd.read_csv(reg_file, index_col='record_id')\n",
    "repo_data = pd.read_csv(repo_file, index_col='record_id')\n",
    "link_data = pd.read_csv(link_file, skiprows=1, header=None, names=['dummy', 'na', \n",
    "    'record_id', 'd', 'e', 'f', 'survey', 'link'], index_col='record_id', dtype=object) # headers in the file are poorly written. na, d, e, f are all not used \n",
    "\n"
   ]
  },
  {
   "cell_type": "code",
   "execution_count": 27,
   "metadata": {
    "collapsed": false
   },
   "outputs": [],
   "source": [
    "# Extract links for survey queues via innerjoin\n",
    "reg_data = reg_data.join(link_data)\n"
   ]
  },
  {
   "cell_type": "code",
   "execution_count": 29,
   "metadata": {
    "collapsed": false
   },
   "outputs": [],
   "source": [
    "# Use the repo_data to select which individuals will receive emails\n",
    "subs = pd.DataFrame(reg_data.ix[repo_data.index])"
   ]
  },
  {
   "cell_type": "code",
   "execution_count": 31,
   "metadata": {
    "collapsed": false
   },
   "outputs": [
    {
     "name": "stdout",
     "output_type": "stream",
     "text": [
      "Would you like to send out the survey queue? y/n y\n",
      "Survey script loaded\n"
     ]
    }
   ],
   "source": [
    "# Check to make sure we are sending surveys\n",
    "# Script is set up to take any text formatted according to rules published on wiki\n",
    "if input('Would you like to send out the survey queue? y/n ') == 'y':\n",
    "    form = open(home+'/git/redcap/email_temp/survey.txt')\n",
    "    form = form.read()\n",
    "    sys.stdout.write(\"Survey script loaded\\n\")\n",
    "else:\n",
    "    sys.stdout.write('Select one of the following templates:\\n')\n",
    "    os.system('ls '+home+'/git/redcap/email_temp')\n",
    "    selection = input('Which of the above templates would you like to load? ')\n",
    "    form = open(home+'/git/redcap/email_temp/'+selection)\n",
    "    form = form.read()\n",
    "    sys.stdout.write(selection+' loaded')"
   ]
  },
  {
   "cell_type": "code",
   "execution_count": 42,
   "metadata": {
    "collapsed": false
   },
   "outputs": [
    {
     "name": "stdout",
     "output_type": "stream",
     "text": [
      "Please select a subject line for your message:\n",
      "(1) Please complete the attached surveys\n",
      "(2) Greetings from the UW Reading & Dyslexia Research Program\n",
      "(3) New study opportunity with the UW Reading & Dyslexia Research Program\n",
      "(4) Custom\n",
      "Please enter the number of your choice: 1\n"
     ]
    }
   ],
   "source": [
    "# Check to see what subject line should be used, then set\n",
    "subl_sel = input('Please select a subject line for your message:\\n(1) Please complete the attached surveys\\n(2) Greetings from the UW Reading & Dyslexia Research Program\\n(3) New study opportunity with the UW Reading & Dyslexia Research Program\\n(4) Custom\\nPlease enter the number of your choice: ')\n",
    "if subl_sel == '1':\n",
    "    subl = 'Please complete the attached surveys'\n",
    "elif subl_sel == '2':\n",
    "    subl = 'Greetings from the UW Reading & Dyslexia Research Program'\n",
    "elif subl_sel == '3':\n",
    "    subl = 'New study opportunity UW Reading & Dyslexia Research Program'\n",
    "else:\n",
    "    subl = input('Please enter text for email Subject line: ')"
   ]
  },
  {
   "cell_type": "code",
   "execution_count": null,
   "metadata": {
    "collapsed": false
   },
   "outputs": [],
   "source": [
    "# Set all features not to be iterated\n",
    "rdrp_email = \"rdrp@uw.edu\"\n",
    "\n",
    "body = \"\"\"\\\n",
    "<html>\n",
    "  <head></head>\n",
    "  <body>\n",
    "    <p>{}\n",
    "    </p>\n",
    "  </body>\n",
    "</html>\n",
    "\"\"\""
   ]
  },
  {
   "cell_type": "code",
   "execution_count": null,
   "metadata": {
    "collapsed": false
   },
   "outputs": [],
   "source": [
    "server = smtplib.SMTP('smtp.gmail.com', 587)\n",
    "server.starttls()\n",
    "server.login(\"rdrp@uw.edu\", input('Please enter password for rdrp@uw.edu: '))"
   ]
  },
  {
   "cell_type": "code",
   "execution_count": 53,
   "metadata": {
    "collapsed": false
   },
   "outputs": [
    {
     "data": {
      "text/plain": [
       "Int64Index([   5,    9,   10,   18,   28,   29,   30,   35,   36,   45,\n",
       "            ...\n",
       "            1092, 1095, 1098, 1101, 1102, 1103, 1108, 1110, 1112, 1116],\n",
       "           dtype='int64', name='record_id', length=263)"
      ]
     },
     "execution_count": 53,
     "metadata": {},
     "output_type": "execute_result"
    }
   ],
   "source": [
    "subs.index[pd.notnull(subs['email'])]"
   ]
  },
  {
   "cell_type": "code",
   "execution_count": null,
   "metadata": {
    "collapsed": false,
    "scrolled": true
   },
   "outputs": [],
   "source": [
    "# Scrape subject data from info, input into form.format in the same order as the positions\n",
    "# to be filled in.\n",
    "for sub in subs.index[pd.notnull(subs['email'])]: #excludes subs without email address defined\n",
    "    if pd.isnull(reg_data.parent_first_name[sub]):\n",
    "        ename = subs.first_name[sub]\n",
    "        link = subs.link[sub]\n",
    "        your = 'your'\n",
    "        body = form.format(ename=ename, link=link, your=your)\n",
    "        sub_email = subs.email[sub]\n",
    "        # Create message container - the correct MIME type is multipart/alternative.\n",
    "        msg = MIMEMultipart()\n",
    "        msg['Subject'] = subl\n",
    "        msg['From'] = rdrp_email\n",
    "        msg['To'] = sub_email\n",
    "        \n",
    "        # Create the body of the message.\n",
    "        html = body.format(form)\n",
    "        \n",
    "        # Record the MIME types of text/html and attach into message container.\n",
    "        msg.attach(MIMEText(html, 'html'))\n",
    "        \n",
    "        # sendmail function takes 3 arguments: sender's address, recipient's address\n",
    "        # and message to send - here it is sent as one string.\n",
    "        #server.sendmail(rdrp_email, sub_email, msg.as_string())\n",
    "        \n",
    "        # update on status\n",
    "        sys.stdout.write('Email sent to {}\\n'.format(repo_data.sid.ix[sub]))\n",
    "    else:\n",
    "        ename = subs.parent_first_name[sub]\n",
    "        link = subs.link[sub]\n",
    "        your = subs.first_name[sub] + \"'s\"\n",
    "        body = form.format(ename=ename, link=link, your=your, unsubscribe=subs.survey[sub], lab_name=lab_name, lab_role=lab_role)\n",
    "        sub_email = subs.email[sub]\n",
    "        # Create message container - the correct MIME type is multipart/alternative.\n",
    "        msg = MIMEMultipart()\n",
    "        msg['Subject'] = subl\n",
    "        msg['From'] = rdrp_email\n",
    "        msg['To'] = sub_email\n",
    "        \n",
    "        # Create the body of the message.\n",
    "        html = body.format(form)\n",
    "        \n",
    "        # Record the MIME types of text/html and attach into message container.\n",
    "        msg.attach(MIMEText(html, 'html'))\n",
    "        \n",
    "        # sendmail function takes 3 arguments: sender's address, recipient's address\n",
    "        # and message to send - here it is sent as one string.\n",
    "        #server.sendmail(rdrp_email, sub_email, msg.as_string())\n",
    "        \n",
    "        # update on status\n",
    "        sys.stdout.write('Email sent to {}\\n'.format(repo_data.sid.ix[sub]))\n",
    "       \n",
    "#close server\n",
    "server.quit()"
   ]
  },
  {
   "cell_type": "code",
   "execution_count": null,
   "metadata": {
    "collapsed": false
   },
   "outputs": [],
   "source": [
    "# Write out all subjects that have missing email data in reg\n",
    "no_email = repo_data[pd.isnull(subs['email'])]\n",
    "sys.stdout.write('No email in reg for subjects:\\n')\n",
    "for sub in no_email.index:\n",
    "    sys.stdout.write('{}\\n'.format(no_email.sid[sub]))"
   ]
  },
  {
   "cell_type": "code",
   "execution_count": null,
   "metadata": {
    "collapsed": false,
    "scrolled": true
   },
   "outputs": [],
   "source": [
    "'{}'.format(repo_data.sid[pd.isnull(subs['email'])])"
   ]
  },
  {
   "cell_type": "code",
   "execution_count": null,
   "metadata": {
    "collapsed": true
   },
   "outputs": [],
   "source": []
  },
  {
   "cell_type": "code",
   "execution_count": null,
   "metadata": {
    "collapsed": false
   },
   "outputs": [],
   "source": [
    "subs.index[pd.notnull(subs['email'])]"
   ]
  }
 ],
 "metadata": {
  "kernelspec": {
   "display_name": "Python 3",
   "language": "python",
   "name": "python3"
  },
  "language_info": {
   "codemirror_mode": {
    "name": "ipython",
    "version": 3
   },
   "file_extension": ".py",
   "mimetype": "text/x-python",
   "name": "python",
   "nbconvert_exporter": "python",
   "pygments_lexer": "ipython3",
   "version": "3.6.0"
  }
 },
 "nbformat": 4,
 "nbformat_minor": 2
}
