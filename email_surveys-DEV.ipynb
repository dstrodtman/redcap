{
 "cells": [
  {
   "cell_type": "code",
   "execution_count": 6,
   "metadata": {
    "collapsed": true
   },
   "outputs": [],
   "source": [
    "#!/usr/bin/env python3\n",
    "\n",
    "\n",
    "# import necessary modules\n",
    "import smtplib\n",
    "import pandas as pd\n",
    "import os\n",
    "import glob\n",
    "import sys\n",
    "\n",
    "from email.mime.multipart import MIMEMultipart\n",
    "from email.mime.text import MIMEText"
   ]
  },
  {
   "cell_type": "code",
   "execution_count": 7,
   "metadata": {
    "collapsed": true
   },
   "outputs": [],
   "source": [
    "# set home directory so can be used on all OS\n",
    "home = os.path.expanduser('~')"
   ]
  },
  {
   "cell_type": "code",
   "execution_count": 8,
   "metadata": {
    "collapsed": true
   },
   "outputs": [],
   "source": [
    "# Find most recently exported files from registry and repository\n",
    "# reg_file should be report XX\n",
    "# repo_file should be report XX\n",
    "# link_file should be downloaded from XX as according to wiki\n",
    "reg_file = max(glob.iglob(home+'/Downloads/RDRPRegistry_DATA_*'), key=os.path.getctime)\n",
    "repo_file = max(glob.iglob(home+'/Downloads/RDRPRepository_DATA_*'), key=os.path.getctime)\n",
    "link_file = max(glob.iglob(home+'/Downloads/RDRPRepository_Participants_*'), key=os.path.getctime)"
   ]
  },
  {
   "cell_type": "code",
   "execution_count": 9,
   "metadata": {
    "collapsed": false
   },
   "outputs": [
    {
     "name": "stdout",
     "output_type": "stream",
     "text": [
      "/home/pdonnelly/Downloads/RDRPRegistry_DATA_2017-10-04_1030.csv\n",
      "/home/pdonnelly/Downloads/RDRPRepository_DATA_2017-10-04_1031.csv\n",
      "/home/pdonnelly/Downloads/RDRPRepository_Participants_2017-10-02_1240.csv\n"
     ]
    }
   ],
   "source": [
    "print(reg_file)\n",
    "print(repo_file)\n",
    "print(link_file)"
   ]
  },
  {
   "cell_type": "code",
   "execution_count": 10,
   "metadata": {
    "collapsed": true
   },
   "outputs": [],
   "source": [
    "# Load data from each using record_id as index\n",
    "reg_data = pd.read_csv(reg_file, index_col='record_id')\n",
    "repo_data = pd.read_csv(repo_file, index_col='record_id')\n",
    "link_data = pd.read_csv(link_file, skiprows=1, header=None, names=['dummy', 'na', \n",
    "    'record_id', 'd', 'e', 'f', 'survey', 'link'], index_col='record_id', dtype=object) # headers in the file are poorly written. na, d, e, f are all not used \n",
    "\n",
    "# Extract links for survey queues\n",
    "reg_data['link'] = link_data.link\n",
    "\n",
    "# And for survey\n",
    "reg_data['survey'] = link_data.survey"
   ]
  },
  {
   "cell_type": "code",
   "execution_count": 11,
   "metadata": {
    "collapsed": false
   },
   "outputs": [],
   "source": [
    "# Use the repo_data to select which individuals will receive emails\n",
    "subs = pd.DataFrame(reg_data.ix[repo_data.index])"
   ]
  },
  {
   "cell_type": "code",
   "execution_count": 12,
   "metadata": {
    "collapsed": false
   },
   "outputs": [
    {
     "name": "stdout",
     "output_type": "stream",
     "text": [
      "Would you like to send out the survey queue? y/n y\n",
      "Survey script loaded\n"
     ]
    }
   ],
   "source": [
    "# Check to make sure we are sending surveys\n",
    "# Script is set up to take any text formatted according to rules published on wiki\n",
    "if input('Would you like to send out the survey queue? y/n ') == 'y':\n",
    "    form = open(home+'/git/redcap/email_temp/survey.txt')\n",
    "    form = form.read()\n",
    "    sys.stdout.write(\"Survey script loaded\\n\")\n",
    "else:\n",
    "    sys.stdout.write('Select one of the following templates:\\n')\n",
    "    os.system('ls '+home+'/git/redcap/email_temp')\n",
    "    selection = input('Which of the above templates would you like to load? ')\n",
    "    form = open(home+'/git/redcap/email_temp/'+selection)\n",
    "    form = form.read()\n",
    "    sys.stdout.write(selection+' loaded')"
   ]
  },
  {
   "cell_type": "code",
   "execution_count": 13,
   "metadata": {
    "collapsed": false
   },
   "outputs": [
    {
     "name": "stdout",
     "output_type": "stream",
     "text": [
      "Please select a subject line for your message:\n",
      "(1) Please complete the attached surveys\n",
      "(2) Greetings from the UW Reading & Dyslexia Research Program\n",
      "(3) New study opportunity with the UW Reading & Dyslexia Research Program\n",
      "(4) Custom\n",
      "Please enter the number of your choice: 1\n"
     ]
    }
   ],
   "source": [
    "# Check to see what subject line should be used, then set\n",
    "subl_sel = input('Please select a subject line for your message:\\n(1) Please complete the attached surveys\\n(2) Greetings from the UW Reading & Dyslexia Research Program\\n(3) New study opportunity with the UW Reading & Dyslexia Research Program\\n(4) Custom\\nPlease enter the number of your choice: ')\n",
    "if subl_sel == '1':\n",
    "    subl = 'Please complete the attached surveys'\n",
    "elif subl_sel == '2':\n",
    "    subl = 'Greetings from the UW Reading & Dyslexia Research Program'\n",
    "elif subl_sel == '3':\n",
    "    subl = 'New study opportunity UW Reading & Dyslexia Research Program'\n",
    "else:\n",
    "    subl = input('Please enter text for email Subject line: ')"
   ]
  },
  {
   "cell_type": "code",
   "execution_count": 14,
   "metadata": {
    "collapsed": false
   },
   "outputs": [],
   "source": [
    "# Set all features not to be iterated\n",
    "rdrp_email = \"rdrp@uw.edu\"\n",
    "\n",
    "body = \"\"\"\\\n",
    "<html>\n",
    "  <head></head>\n",
    "  <body>\n",
    "    <p>{}\n",
    "    </p>\n",
    "  </body>\n",
    "</html>\n",
    "\"\"\""
   ]
  },
  {
   "cell_type": "code",
   "execution_count": 15,
   "metadata": {
    "collapsed": false
   },
   "outputs": [
    {
     "name": "stdout",
     "output_type": "stream",
     "text": [
      "Please enter password for rdrp@uw.edu: readingrainier214\n"
     ]
    },
    {
     "data": {
      "text/plain": [
       "(235, b'2.7.0 Accepted')"
      ]
     },
     "execution_count": 15,
     "metadata": {},
     "output_type": "execute_result"
    }
   ],
   "source": [
    "server = smtplib.SMTP('smtp.gmail.com', 587)\n",
    "server.starttls()\n",
    "server.login(\"rdrp@uw.edu\", input('Please enter password for rdrp@uw.edu: '))"
   ]
  },
  {
   "cell_type": "code",
   "execution_count": 17,
   "metadata": {
    "collapsed": false,
    "scrolled": true
   },
   "outputs": [
    {
     "ename": "NameError",
     "evalue": "name 'lab_name' is not defined",
     "output_type": "error",
     "traceback": [
      "\u001b[0;31m---------------------------------------------------------------------------\u001b[0m",
      "\u001b[0;31mNameError\u001b[0m                                 Traceback (most recent call last)",
      "\u001b[0;32m<ipython-input-17-5166669ecd7e>\u001b[0m in \u001b[0;36m<module>\u001b[0;34m()\u001b[0m\n\u001b[1;32m     30\u001b[0m         \u001b[0mlink\u001b[0m \u001b[0;34m=\u001b[0m \u001b[0msubs\u001b[0m\u001b[0;34m.\u001b[0m\u001b[0mlink\u001b[0m\u001b[0;34m[\u001b[0m\u001b[0msub\u001b[0m\u001b[0;34m]\u001b[0m\u001b[0;34m\u001b[0m\u001b[0m\n\u001b[1;32m     31\u001b[0m         \u001b[0myour\u001b[0m \u001b[0;34m=\u001b[0m \u001b[0msubs\u001b[0m\u001b[0;34m.\u001b[0m\u001b[0mfirst_name\u001b[0m\u001b[0;34m[\u001b[0m\u001b[0msub\u001b[0m\u001b[0;34m]\u001b[0m \u001b[0;34m+\u001b[0m \u001b[0;34m\"'s\"\u001b[0m\u001b[0;34m\u001b[0m\u001b[0m\n\u001b[0;32m---> 32\u001b[0;31m         \u001b[0mbody\u001b[0m \u001b[0;34m=\u001b[0m \u001b[0mform\u001b[0m\u001b[0;34m.\u001b[0m\u001b[0mformat\u001b[0m\u001b[0;34m(\u001b[0m\u001b[0mename\u001b[0m\u001b[0;34m=\u001b[0m\u001b[0mename\u001b[0m\u001b[0;34m,\u001b[0m \u001b[0mlink\u001b[0m\u001b[0;34m=\u001b[0m\u001b[0mlink\u001b[0m\u001b[0;34m,\u001b[0m \u001b[0myour\u001b[0m\u001b[0;34m=\u001b[0m\u001b[0myour\u001b[0m\u001b[0;34m,\u001b[0m \u001b[0munsubscribe\u001b[0m\u001b[0;34m=\u001b[0m\u001b[0msubs\u001b[0m\u001b[0;34m.\u001b[0m\u001b[0msurvey\u001b[0m\u001b[0;34m[\u001b[0m\u001b[0msub\u001b[0m\u001b[0;34m]\u001b[0m\u001b[0;34m,\u001b[0m \u001b[0mlab_name\u001b[0m\u001b[0;34m=\u001b[0m\u001b[0mlab_name\u001b[0m\u001b[0;34m,\u001b[0m \u001b[0mlab_role\u001b[0m\u001b[0;34m=\u001b[0m\u001b[0mlab_role\u001b[0m\u001b[0;34m)\u001b[0m\u001b[0;34m\u001b[0m\u001b[0m\n\u001b[0m\u001b[1;32m     33\u001b[0m         \u001b[0msub_email\u001b[0m \u001b[0;34m=\u001b[0m \u001b[0msubs\u001b[0m\u001b[0;34m.\u001b[0m\u001b[0memail\u001b[0m\u001b[0;34m[\u001b[0m\u001b[0msub\u001b[0m\u001b[0;34m]\u001b[0m\u001b[0;34m\u001b[0m\u001b[0m\n\u001b[1;32m     34\u001b[0m         \u001b[0;31m# Create message container - the correct MIME type is multipart/alternative.\u001b[0m\u001b[0;34m\u001b[0m\u001b[0;34m\u001b[0m\u001b[0m\n",
      "\u001b[0;31mNameError\u001b[0m: name 'lab_name' is not defined"
     ]
    }
   ],
   "source": [
    "# Scrape subject data from info, input into form.format in the same order as the positions\n",
    "# to be filled in.\n",
    "for sub in subs.index[pd.notnull(subs['email'])]: #excludes subs without email address defined\n",
    "    if pd.isnull(reg_data.parent_first_name[sub]):\n",
    "        ename = subs.first_name[sub]\n",
    "        link = subs.link[sub]\n",
    "        your = 'your'\n",
    "        body = form.format(ename=ename, link=link, your=your)\n",
    "        sub_email = subs.email[sub]\n",
    "        # Create message container - the correct MIME type is multipart/alternative.\n",
    "        msg = MIMEMultipart()\n",
    "        msg['Subject'] = subl\n",
    "        msg['From'] = rdrp_email\n",
    "        msg['To'] = sub_email\n",
    "        \n",
    "        # Create the body of the message.\n",
    "        html = body.format(form)\n",
    "        \n",
    "        # Record the MIME types of text/html and attach into message container.\n",
    "        msg.attach(MIMEText(html, 'html'))\n",
    "        \n",
    "        # sendmail function takes 3 arguments: sender's address, recipient's address\n",
    "        # and message to send - here it is sent as one string.\n",
    "        #server.sendmail(rdrp_email, sub_email, msg.as_string())\n",
    "        \n",
    "        # update on status\n",
    "        sys.stdout.write('Email sent to {}\\n'.format(repo_data.sid.ix[sub]))\n",
    "    else:\n",
    "        ename = subs.parent_first_name[sub]\n",
    "        link = subs.link[sub]\n",
    "        your = subs.first_name[sub] + \"'s\"\n",
    "        body = form.format(ename=ename, link=link, your=your, unsubscribe=subs.survey[sub], lab_name=lab_name, lab_role=lab_role)\n",
    "        sub_email = subs.email[sub]\n",
    "        # Create message container - the correct MIME type is multipart/alternative.\n",
    "        msg = MIMEMultipart()\n",
    "        msg['Subject'] = subl\n",
    "        msg['From'] = rdrp_email\n",
    "        msg['To'] = sub_email\n",
    "        \n",
    "        # Create the body of the message.\n",
    "        html = body.format(form)\n",
    "        \n",
    "        # Record the MIME types of text/html and attach into message container.\n",
    "        msg.attach(MIMEText(html, 'html'))\n",
    "        \n",
    "        # sendmail function takes 3 arguments: sender's address, recipient's address\n",
    "        # and message to send - here it is sent as one string.\n",
    "        #server.sendmail(rdrp_email, sub_email, msg.as_string())\n",
    "        \n",
    "        # update on status\n",
    "        sys.stdout.write('Email sent to {}\\n'.format(repo_data.sid.ix[sub]))\n",
    "       \n",
    "#close server\n",
    "server.quit()"
   ]
  },
  {
   "cell_type": "code",
   "execution_count": 112,
   "metadata": {
    "collapsed": false
   },
   "outputs": [
    {
     "name": "stdout",
     "output_type": "stream",
     "text": [
      "No email in reg for subjects:\n",
      "HH008\n",
      "XX022\n"
     ]
    }
   ],
   "source": [
    "# Write out all subjects that have missing email data in reg\n",
    "no_email = repo_data[pd.isnull(subs['email'])]\n",
    "sys.stdout.write('No email in reg for subjects:\\n')\n",
    "for sub in no_email.index:\n",
    "    sys.stdout.write('{}\\n'.format(no_email.sid[sub]))"
   ]
  },
  {
   "cell_type": "code",
   "execution_count": 34,
   "metadata": {
    "collapsed": false,
    "scrolled": true
   },
   "outputs": [
    {
     "data": {
      "text/plain": [
       "'record_id\\n8    HH008\\nName: sid, dtype: object'"
      ]
     },
     "execution_count": 34,
     "metadata": {},
     "output_type": "execute_result"
    }
   ],
   "source": [
    "'{}'.format(repo_data.sid[pd.isnull(subs['email'])])"
   ]
  },
  {
   "cell_type": "code",
   "execution_count": null,
   "metadata": {
    "collapsed": true
   },
   "outputs": [],
   "source": []
  },
  {
   "cell_type": "code",
   "execution_count": 24,
   "metadata": {
    "collapsed": false
   },
   "outputs": [
    {
     "data": {
      "text/plain": [
       "Int64Index([1, 2, 3, 4, 5, 6, 7, 9, 10], dtype='int64', name='record_id')"
      ]
     },
     "execution_count": 24,
     "metadata": {},
     "output_type": "execute_result"
    }
   ],
   "source": [
    "subs.index[pd.notnull(subs['email'])]"
   ]
  }
 ],
 "metadata": {
  "kernelspec": {
   "display_name": "Python 3",
   "language": "python",
   "name": "python3"
  },
  "language_info": {
   "codemirror_mode": {
    "name": "ipython",
    "version": 3
   },
   "file_extension": ".py",
   "mimetype": "text/x-python",
   "name": "python",
   "nbconvert_exporter": "python",
   "pygments_lexer": "ipython3",
   "version": "3.6.0"
  }
 },
 "nbformat": 4,
 "nbformat_minor": 2
}
