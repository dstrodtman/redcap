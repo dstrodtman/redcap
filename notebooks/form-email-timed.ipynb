{
 "cells": [
  {
   "cell_type": "code",
   "execution_count": 1,
   "metadata": {
    "collapsed": true
   },
   "outputs": [],
   "source": [
    "#!/usr/bin/env python3\n",
    "\n",
    "# This script is designed to take any email script formatted according\n",
    "# to the guidelines on the wiki and insert links extracted from REDCap\n",
    "# repository into contact info from registry.\n",
    " \n",
    "# This script assumes that all subjects that have been exported from the\n",
    "# repository need to receive the message that you are sending. Subs that are missing data in registry (whether just missing email or no record at all) will indicated as not receiving messages through command line feedback.\n",
    "\n",
    "# import necessary modules\n",
    "import smtplib\n",
    "import pandas as pd\n",
    "import os\n",
    "import glob\n",
    "import sys\n",
    "import sched\n",
    "import time\n",
    "from email.mime.multipart import MIMEMultipart\n",
    "from email.mime.text import MIMEText"
   ]
  },
  {
   "cell_type": "code",
   "execution_count": null,
   "metadata": {
    "collapsed": true
   },
   "outputs": [],
   "source": [
    "# set home directory so can be used on all OS\n",
    "home = os.path.expanduser('~')"
   ]
  },
  {
   "cell_type": "code",
   "execution_count": null,
   "metadata": {
    "collapsed": true
   },
   "outputs": [],
   "source": [
    "# Find most recently exported files from registry and repository\n",
    "# (please note that one could also easily modify script to specify files you wish to use, but as we're trying to minimize RDRP data that's stored on machines, requiring download immediately before and then automating deletion within this script facilitates that end goal)\n",
    "# reg_file should be report XX\n",
    "# repo_file should be report XX\n",
    "# link_file should be downloaded from XX as according to wiki\n",
    "reg_file = max(glob.iglob(home+'/Downloads/RDRPRegistry_DATA_*'), key=os.path.getctime)\n",
    "repo_file = max(glob.iglob(home+'/Downloads/RDRPRepository_DATA_*'), key=os.path.getctime)\n",
    "link_file = max(glob.iglob(home+'/Downloads/RDRPRepository_Participants_*'), key=os.path.getctime)"
   ]
  },
  {
   "cell_type": "code",
   "execution_count": null,
   "metadata": {
    "collapsed": true
   },
   "outputs": [],
   "source": [
    "# Load data from each using record_id as index\n",
    "reg_data = pd.read_csv(reg_file, index_col='record_id')\n",
    "repo_data = pd.read_csv(repo_file, index_col='record_id')\n",
    "link_data = pd.read_csv(link_file, skiprows=1, header=None, names=['dummy', 'na', \n",
    "    'record_id', 'd', 'e', 'f', 'survey', 'link'], index_col='record_id', dtype=object) # headers in the file are poorly written. na, d, e, f are all not used \n"
   ]
  },
  {
   "cell_type": "code",
   "execution_count": null,
   "metadata": {
    "collapsed": true
   },
   "outputs": [],
   "source": [
    "# Extract links for survey queues\n",
    "reg_data['link'] = link_data.link\n",
    "\n",
    "# And for survey\n",
    "reg_data['survey'] = link_data.survey\n",
    "\n",
    "# Use the repo_data to select which individuals will receive emails\n",
    "subs = pd.DataFrame(reg_data.ix[repo_data.index])"
   ]
  },
  {
   "cell_type": "code",
   "execution_count": null,
   "metadata": {
    "collapsed": true
   },
   "outputs": [],
   "source": [
    "# Check to make sure we are sending surveys\n",
    "# Script is set up to take any text formatted according to rules published on wiki\n",
    "if input('Would you like to send out the survey queue? y/n ') == 'y':\n",
    "    form = open(home+'/git/redcap/email_temp/survey.txt')\n",
    "    form = form.read()\n",
    "    sys.stdout.write(\"Survey script loaded\\n\")\n",
    "else:\n",
    "    sys.stdout.write('Select one of the following templates:\\n')\n",
    "    os.system('ls '+home+'/git/redcap/email_temp')\n",
    "    selection = input('Which of the above templates would you like to load? ')\n",
    "    form = open(home+'/git/redcap/email_temp/'+selection)\n",
    "    form = form.read()\n",
    "    sys.stdout.write(selection+' loaded\\n\\n')"
   ]
  },
  {
   "cell_type": "code",
   "execution_count": null,
   "metadata": {
    "collapsed": true
   },
   "outputs": [],
   "source": [
    "# Check to see what subject line should be used, then set\n",
    "subl_sel = input('Please select a subject line for your message:\\n(1) Please complete the attached surveys\\n(2) Greetings from the UW Reading & Dyslexia Research Program\\n(3) New study opportunity with the UW Reading & Dyslexia Research Program\\n(4) Custom\\nPlease enter the number of your choice: ')\n",
    "if subl_sel == '1':\n",
    "    subl = 'Please complete the attached surveys'\n",
    "elif subl_sel == '2':\n",
    "    subl = 'Greetings from the UW Reading & Dyslexia Research Program'\n",
    "elif subl_sel == '3':\n",
    "    subl = 'New study opportunity UW Reading & Dyslexia Research Program'\n",
    "else:\n",
    "    subl = input('Please enter text for email Subject line: ')"
   ]
  },
  {
   "cell_type": "code",
   "execution_count": null,
   "metadata": {
    "collapsed": true
   },
   "outputs": [],
   "source": [
    "# Set the identity of the individual sending the email\n",
    "lab_name = input('Please enter the name to be used in the signature: ')\n",
    "lab_role = input('Please enter the title of this individual: ')"
   ]
  },
  {
   "cell_type": "code",
   "execution_count": null,
   "metadata": {
    "collapsed": true
   },
   "outputs": [],
   "source": [
    "# Let user indicate which column to use to mark success of email being sent\n",
    "if input('Would you like to mark a column in the repository that surveys have been sent? y/n ') == 'y':\n",
    "    for column in repo_data.columns:\n",
    "        sys.stdout.write(column+'\\n')\n",
    "    repo_col = input('Please type the name of the column you wish you mark: ')  \n",
    "else:\n",
    "    repo_col = None  "
   ]
  },
  {
   "cell_type": "code",
   "execution_count": null,
   "metadata": {
    "collapsed": true
   },
   "outputs": [],
   "source": [
    "# Set all features not to be iterated\n",
    "# Originating email\n",
    "rdrp_email = \"rdrp@uw.edu\""
   ]
  },
  {
   "cell_type": "code",
   "execution_count": null,
   "metadata": {
    "collapsed": true
   },
   "outputs": [],
   "source": [
    "# Set up html container to plug text into\n",
    "body = \"\"\"\\\n",
    "<html>\n",
    "  <head></head>\n",
    "  <body>\n",
    "    <p>{}\n",
    "    </p>\n",
    "  </body>\n",
    "</html>\n",
    "\"\"\""
   ]
  },
  {
   "cell_type": "code",
   "execution_count": null,
   "metadata": {
    "collapsed": true
   },
   "outputs": [],
   "source": [
    "# Query for password and assign to variable\n",
    "pswd = input('Please enter password for rdrp@uw.edu: ')"
   ]
  },
  {
   "cell_type": "code",
   "execution_count": 56,
   "metadata": {
    "collapsed": false,
    "scrolled": true
   },
   "outputs": [
    {
     "name": "stdout",
     "output_type": "stream",
     "text": [
      "Emails scheduled to send at 08 May 17 23:00\n",
      "If this time is not tonight at 11pm, please exit script with Ctrl+C and troubleshoot"
     ]
    }
   ],
   "source": [
    "# set the start time as 11pm today, print this out to the command line\n",
    "start_time_str = time.strftime('%d %b %y', time.localtime()) +' 23:00'\n",
    "sys.stdout.write('Emails scheduled to send at ' + start_time_str +'\\nIf this time is not tonight at 11pm, please exit script with Ctrl+C and troubleshoot\\n')\n",
    "\n",
    "# Convert this start_time to seconds since epoch to pass to sched\n",
    "start_time = time.mktime(time.strptime(start_time_str, '%d %b %y %H:%M'))"
   ]
  },
  {
   "cell_type": "code",
   "execution_count": 39,
   "metadata": {
    "collapsed": false
   },
   "outputs": [],
   "source": [
    "# Create the scheduling object\n",
    "s = sched.scheduler(time.time, time.sleep)"
   ]
  },
  {
   "cell_type": "code",
   "execution_count": 45,
   "metadata": {
    "collapsed": false
   },
   "outputs": [],
   "source": [
    "# Set an event with absolute time, which will delay rest of script until 11pm tonight\n",
    "s.enterabs(start_time, 1, time.time, ())\n",
    "s.run()"
   ]
  },
  {
   "cell_type": "code",
   "execution_count": null,
   "metadata": {
    "collapsed": true
   },
   "outputs": [],
   "source": [
    "# Start server and query for password\n",
    "server = smtplib.SMTP('smtp.gmail.com', 587)\n",
    "server.starttls()\n",
    "server.login(rdrp_email, pswd)"
   ]
  },
  {
   "cell_type": "code",
   "execution_count": null,
   "metadata": {
    "collapsed": true
   },
   "outputs": [],
   "source": [
    "# Scrape subject data from info, input into form.format in the same order as the positions\n",
    "# to be filled in.\n",
    "for sub in subs.index[pd.notnull(subs['email'])]: #excludes subs without email address defined\n",
    "    time.sleep(1) # add 1 second pause between emails\n",
    "    if pd.isnull(subs.parent_first_name[sub]):\n",
    "        ename = subs.first_name[sub]\n",
    "        link = subs.link[sub]\n",
    "        your = 'your'\n",
    "        body = form.format(ename=ename, link=link, your=your, survey=subs.survey[sub], lab_name=lab_name, lab_role=lab_role)\n",
    "        sub_email = subs.email[sub]\n",
    "        # Create message container - the correct MIME type is multipart/alternative.\n",
    "        msg = MIMEMultipart()\n",
    "        msg['Subject'] = subl\n",
    "        msg['From'] = rdrp_email\n",
    "        msg['To'] = sub_email\n",
    "        \n",
    "        # Create the body of the message.\n",
    "        html = body.format(form)\n",
    "        \n",
    "        # Record the MIME types of text/html and attach into message container.\n",
    "        msg.attach(MIMEText(html, 'html'))\n",
    "        \n",
    "        # sendmail function takes 3 arguments: sender's address, recipient's address\n",
    "        # and message to send - here it is sent as one string.\n",
    "        server.sendmail(rdrp_email, sub_email, msg.as_string())\n",
    "        \n",
    "        # Mark that email has been sent (if told earlier)\n",
    "        if repo_col:\n",
    "            repo_data.loc[repo_data.index==[sub],repo_col]='1'\n",
    "        \n",
    "        # update on status\n",
    "        sys.stdout.write('Email sent to {}\\n'.format(repo_data.sid.ix[sub]))\n",
    "    else:\n",
    "        ename = subs.parent_first_name[sub]\n",
    "        link = subs.link[sub]\n",
    "        your = subs.first_name[sub] + \"'s\"\n",
    "        body = form.format(ename=ename, link=link, your=your, survey=subs.survey[sub],  lab_name=lab_name, lab_role=lab_role)\n",
    "        sub_email = subs.email[sub]\n",
    "        # Create message container - the correct MIME type is multipart/alternative.\n",
    "        msg = MIMEMultipart()\n",
    "        msg['Subject'] = subl\n",
    "        msg['From'] = rdrp_email\n",
    "        msg['To'] = sub_email\n",
    "        \n",
    "        # Create the body of the message.\n",
    "        html = body.format(form)\n",
    "        \n",
    "        # Record the MIME types of text/html and attach into message container.\n",
    "        msg.attach(MIMEText(html, 'html'))\n",
    "        \n",
    "        # sendmail function takes 3 arguments: sender's address, recipient's address\n",
    "        # and message to send - here it is sent as one string.\n",
    "        server.sendmail(rdrp_email, sub_email, msg.as_string())\n",
    "        \n",
    "        # Mark that email has been sent (if told earlier)\n",
    "        if repo_col:\n",
    "            repo_data.loc[repo_data.index==[sub],repo_col]='1'\n",
    "        \n",
    "        # update on status\n",
    "        sys.stdout.write('Email sent to {}\\n'.format(repo_data.sid.ix[sub]))\n",
    "\n",
    "# close server\n",
    "server.quit()"
   ]
  },
  {
   "cell_type": "code",
   "execution_count": null,
   "metadata": {
    "collapsed": true
   },
   "outputs": [],
   "source": [
    "# Write out all subjects that have missing email data in reg\n",
    "no_email = repo_data[pd.isnull(subs['email'])]\n",
    "sys.stdout.write('\\nNo email in reg for subjects:\\n')\n",
    "for sub in no_email.index:\n",
    "    sys.stdout.write('{}\\n'.format(no_email.sid[sub]))"
   ]
  },
  {
   "cell_type": "code",
   "execution_count": null,
   "metadata": {
    "collapsed": true
   },
   "outputs": [],
   "source": [
    "# Write out updated repository file to upload who has received email\n",
    "if repo_col:\n",
    "    repo_data.to_csv(home+'/Downloads/repo_email.csv')\n",
    "    sys.stdout.write('\\nPlease import repo_email.csv to Repository\\n')"
   ]
  },
  {
   "cell_type": "code",
   "execution_count": null,
   "metadata": {
    "collapsed": true
   },
   "outputs": [],
   "source": [
    "# delete the files from which we're working for security!\n",
    "os.remove(reg_file)\n",
    "os.remove(repo_file)\n",
    "os.remove(link_file)"
   ]
  }
 ],
 "metadata": {
  "kernelspec": {
   "display_name": "Python 3",
   "language": "python",
   "name": "python3"
  },
  "language_info": {
   "codemirror_mode": {
    "name": "ipython",
    "version": 3
   },
   "file_extension": ".py",
   "mimetype": "text/x-python",
   "name": "python",
   "nbconvert_exporter": "python",
   "pygments_lexer": "ipython3",
   "version": "3.6.0"
  }
 },
 "nbformat": 4,
 "nbformat_minor": 2
}
