{
 "cells": [
  {
   "cell_type": "code",
   "execution_count": 56,
   "metadata": {
    "collapsed": true
   },
   "outputs": [],
   "source": [
    "import pandas as pd\n",
    "import numpy as np"
   ]
  },
  {
   "cell_type": "code",
   "execution_count": 186,
   "metadata": {
    "collapsed": true
   },
   "outputs": [],
   "source": [
    "# Import data\n",
    "data = pd.read_csv('/Users/douglasstrodtman/Downloads/RDRPRepository_DATA_2017-03-20_1510.csv')"
   ]
  },
  {
   "cell_type": "code",
   "execution_count": 187,
   "metadata": {
    "collapsed": false
   },
   "outputs": [],
   "source": [
    "# Set up arrays of variable names\n",
    "scores = ['wj_lwid_ss' , 'wj_wa_ss' , 'wj_pc_ss' , 'wj_or_ss' , 'wj_srf_ss' ,\n",
    "'wj_mff_ss' , 'wj_calc_ss' , 'twre_swe_ss' , 'twre_pde_ss' ,\n",
    "'wasi_block_ts' , 'wasi_vocab_ts' , 'wasi_mr_ts' , 'wasi_sim_ts' ,\n",
    "'ctopp_elision_ss' , 'ctopp_bw_ss' , 'ctopp_pi_ss' , 'ctopp_md_ss' ,\n",
    "'ctopp_nr_ss' , 'ctopp_rd_ss' , 'ctopp_rl_ss']\n",
    "\n",
    "runs = ['wj_lwid_run' , 'wj_wa_run' , 'wj_pc_run' , 'wj_or_run' ,\n",
    "'wj_srf_run' , 'wj_mff_run' , 'wj_calc_run' ,\n",
    "'towre_swe_run' , 'towre_pde_run' , 'wasi_block_run' , 'wasi_vocab_run' , 'wasi_mr_run' , 'wasi_sim_run' , 'ctopp_elision_run' , 'ctopp_bw_run', 'ctopp_pi_run' , 'ctopp_md_run' , 'ctopp_nr_run' , 'ctopp_rd_run' ,\n",
    "'ctopp_rl_run']"
   ]
  },
  {
   "cell_type": "code",
   "execution_count": 188,
   "metadata": {
    "collapsed": false
   },
   "outputs": [],
   "source": [
    "# Find fields that have scores in them, mark the runs as imported from NLR\n",
    "for score in scores:\n",
    "    for sub in data.index[pd.notnull(eval('data.{}'.format(score)))]:\n",
    "        if pd.isnull(eval('data.{}'.format(runs[scores.index(score)]))[data.index[sub]]):\n",
    "            data.loc[data.index==[sub], '{}'.format(runs[scores.index(score)])] = 3"
   ]
  },
  {
   "cell_type": "code",
   "execution_count": 189,
   "metadata": {
    "collapsed": false
   },
   "outputs": [],
   "source": [
    "# Set forms for imported data for WJ and TOWRE to X\n",
    "data.loc[data.index[data.wj_lwid_run == 3], 'wj_form'] = 'X'\n",
    "data.loc[data.index[data.towre_swe_run ==3], 'towre_form'] = 'X'"
   ]
  },
  {
   "cell_type": "code",
   "execution_count": 190,
   "metadata": {
    "collapsed": true
   },
   "outputs": [],
   "source": [
    "# Write out csv\n",
    "data.to_csv('~/Downloads/nlr_fixed.csv')"
   ]
  }
 ],
 "metadata": {
  "kernelspec": {
   "display_name": "Python 2",
   "language": "python",
   "name": "python2"
  },
  "language_info": {
   "codemirror_mode": {
    "name": "ipython",
    "version": 2
   },
   "file_extension": ".py",
   "mimetype": "text/x-python",
   "name": "python",
   "nbconvert_exporter": "python",
   "pygments_lexer": "ipython2",
   "version": "2.7.11"
  }
 },
 "nbformat": 4,
 "nbformat_minor": 0
}
