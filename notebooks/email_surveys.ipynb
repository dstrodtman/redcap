{
 "cells": [
  {
   "cell_type": "code",
   "execution_count": 15,
   "metadata": {
    "collapsed": true
   },
   "outputs": [],
   "source": [
    "#!/usr/bin/env python3\n",
    "\n",
    "\n",
    "# import necessary modules\n",
    "import smtplib\n",
    "import pandas as pd\n",
    "import os\n",
    "import glob\n",
    "import sys\n",
    "\n",
    "from email.mime.multipart import MIMEMultipart\n",
    "from email.mime.text import MIMEText"
   ]
  },
  {
   "cell_type": "code",
   "execution_count": 2,
   "metadata": {
    "collapsed": true
   },
   "outputs": [],
   "source": [
    "# set home directory so can be used on all OS\n",
    "home = os.path.expanduser('~')"
   ]
  },
  {
   "cell_type": "code",
   "execution_count": 55,
   "metadata": {
    "collapsed": true
   },
   "outputs": [],
   "source": [
    "# Find most recently exported files from registry and repository\n",
    "# reg_file should be report XX\n",
    "# repo_file should be report XX\n",
    "# link_file should be downloaded from XX as according to wiki\n",
    "reg_file = max(glob.iglob(home+'/Downloads/RDRPRegistry_DATA_*'), key=os.path.getctime)\n",
    "repo_file = max(glob.iglob(home+'/Downloads/RDRPRepository_DATA_*'), key=os.path.getctime)\n",
    "link_file = max(glob.iglob(home+'/Downloads/RDRPRepository_Participants_*'), key=os.path.getctime)"
   ]
  },
  {
   "cell_type": "code",
   "execution_count": 39,
   "metadata": {
    "collapsed": false
   },
   "outputs": [
    {
     "name": "stdout",
     "output_type": "stream",
     "text": [
      "/Users/douglasstrodtman/Downloads/RDRPRegistry_DATA_TEST.csv\n",
      "/Users/douglasstrodtman/Downloads/RDRPRepository_DATA_TEST.csv\n",
      "/Users/douglasstrodtman/Downloads/RDRPRepository_Participants_TEST.csv\n"
     ]
    }
   ],
   "source": [
    "print(reg_file)\n",
    "print(repo_file)\n",
    "print(link_file)"
   ]
  },
  {
   "cell_type": "code",
   "execution_count": 56,
   "metadata": {
    "collapsed": true
   },
   "outputs": [],
   "source": [
    "# Load data from each using record_id as index\n",
    "reg_data = pd.read_csv(reg_file, index_col='record_id')\n",
    "repo_data = pd.read_csv(repo_file, index_col='record_id')\n",
    "link_data = pd.read_csv(link_file, skiprows=1, header=None, names=['dummy', 'na', \n",
    "    'record_id', 'd', 'e', 'f', 'survey', 'link'], index_col='record_id', dtype=object) # headers in the file are poorly written. na, d, e, f are all not used \n",
    "\n",
    "# Extract links for survey queues\n",
    "reg_data['link'] = link_data.link\n",
    "\n",
    "# And for survey\n",
    "reg_data['survey'] = link_data.survey"
   ]
  },
  {
   "cell_type": "code",
   "execution_count": 57,
   "metadata": {
    "collapsed": false
   },
   "outputs": [
    {
     "name": "stdout",
     "output_type": "stream",
     "text": [
      "Would you like to send out the survey queue? y/n y\n",
      "Survey script loaded\n"
     ]
    }
   ],
   "source": [
    "# Check to make sure we are sending surveys\n",
    "# Script is set up to take any text formatted according to rules published on wiki\n",
    "if input('Would you like to send out the survey queue? y/n ') == 'y':\n",
    "    form = open(home+'/git/redcap/email_temp/survey.txt')\n",
    "    form = form.read()\n",
    "    sys.stdout.write(\"Survey script loaded\\n\")\n",
    "else:\n",
    "    sys.stdout.write('Select one of the following templates:\\n')\n",
    "    os.system('ls '+home+'/git/redcap/email_temp')\n",
    "    selection = input('Which of the above templates would you like to load? ')\n",
    "    form = open(home+'/git/redcap/email_temp/'+selection)\n",
    "    form = form.read()\n",
    "    sys.stdout.write(selection+' loaded')"
   ]
  },
  {
   "cell_type": "code",
   "execution_count": 58,
   "metadata": {
    "collapsed": false
   },
   "outputs": [
    {
     "name": "stdout",
     "output_type": "stream",
     "text": [
      "Please select a subject line for your message:\n",
      "(1) Please complete the attached surveys\n",
      "(2) Greetings from the UW Reading & Dyslexia Research Program\n",
      "(3) New study opportunity with the UW Reading & Dyslexia Research Program\n",
      "(4) Custom\n",
      "Please enter the number of your choice: 1\n"
     ]
    }
   ],
   "source": [
    "# Check to see what subject line should be used, then set\n",
    "subl_sel = input('Please select a subject line for your message:\\n(1) Please complete the attached surveys\\n(2) Greetings from the UW Reading & Dyslexia Research Program\\n(3) New study opportunity with the UW Reading & Dyslexia Research Program\\n(4) Custom\\nPlease enter the number of your choice: ')\n",
    "if subl_sel == '1':\n",
    "    subl = 'Please complete the attached surveys'\n",
    "elif subl_sel == '2':\n",
    "    subl = 'Greetings from the UW Reading & Dyslexia Research Program'\n",
    "elif subl_sel == '3':\n",
    "    subl = 'New study opportunity UW Reading & Dyslexia Research Program'\n",
    "else:\n",
    "    subl = input('Please enter text for email Subject line: ')"
   ]
  },
  {
   "cell_type": "code",
   "execution_count": 59,
   "metadata": {
    "collapsed": false,
    "scrolled": true
   },
   "outputs": [
    {
     "data": {
      "text/plain": [
       "'Please complete the attached surveys'"
      ]
     },
     "execution_count": 59,
     "metadata": {},
     "output_type": "execute_result"
    }
   ],
   "source": [
    "subl"
   ]
  },
  {
   "cell_type": "code",
   "execution_count": 60,
   "metadata": {
    "collapsed": false
   },
   "outputs": [],
   "source": [
    "# Set all features not to be iterated\n",
    "rdrp_email = \"rdrp@uw.edu\"\n",
    "\n",
    "body = \"\"\"\\\n",
    "<html>\n",
    "  <head></head>\n",
    "  <body>\n",
    "    <p>{}\n",
    "    </p>\n",
    "  </body>\n",
    "</html>\n",
    "\"\"\""
   ]
  },
  {
   "cell_type": "code",
   "execution_count": 61,
   "metadata": {
    "collapsed": false
   },
   "outputs": [
    {
     "name": "stdout",
     "output_type": "stream",
     "text": [
      "Please enter password for rdrp@uw.edu: readingrainier214\n"
     ]
    },
    {
     "data": {
      "text/plain": [
       "(235, b'2.7.0 Accepted')"
      ]
     },
     "execution_count": 61,
     "metadata": {},
     "output_type": "execute_result"
    }
   ],
   "source": [
    "server = smtplib.SMTP('smtp.gmail.com', 587)\n",
    "server.starttls()\n",
    "server.login(\"rdrp@uw.edu\", input('Please enter password for rdrp@uw.edu: '))"
   ]
  },
  {
   "cell_type": "code",
   "execution_count": 62,
   "metadata": {
    "collapsed": false
   },
   "outputs": [
    {
     "data": {
      "text/plain": [
       "(221, b'2.0.0 closing connection i63sm1935800pgc.26 - gsmtp')"
      ]
     },
     "execution_count": 62,
     "metadata": {},
     "output_type": "execute_result"
    }
   ],
   "source": [
    "# Scrape subject data from info, input into form.format in the same order as the positions\n",
    "# to be filled in.\n",
    "for sub in reg_data.index:\n",
    "    if pd.isnull(reg_data.parent_first_name[sub]):\n",
    "        ename = reg_data.first_name[sub]\n",
    "        link = reg_data.link[sub]\n",
    "        your = 'your'\n",
    "        body = form.format(ename=ename, link=link, your=your)\n",
    "        sub_email = reg_data.email[sub]\n",
    "        # Create message container - the correct MIME type is multipart/alternative.\n",
    "        msg = MIMEMultipart()\n",
    "        msg['Subject'] = subl\n",
    "        msg['From'] = rdrp_email\n",
    "        msg['To'] = sub_email\n",
    "        \n",
    "        # Create the body of the message.\n",
    "        html = body.format(form)\n",
    "        \n",
    "        # Record the MIME types of text/html and attach into message container.\n",
    "        msg.attach(MIMEText(html, 'html'))\n",
    "        \n",
    "        # sendmail function takes 3 arguments: sender's address, recipient's address\n",
    "        # and message to send - here it is sent as one string.\n",
    "        server.sendmail(rdrp_email, sub_email, msg.as_string())\n",
    "    else:\n",
    "        ename = reg_data.parent_first_name[sub]\n",
    "        link = reg_data.link[sub]\n",
    "        your = reg_data.first_name[sub] + \"'s\"\n",
    "        body = form.format(ename=ename, link=link, your=your)\n",
    "        sub_email = reg_data.email[sub]\n",
    "        # Create message container - the correct MIME type is multipart/alternative.\n",
    "        msg = MIMEMultipart()\n",
    "        msg['Subject'] = subl\n",
    "        msg['From'] = rdrp_email\n",
    "        msg['To'] = sub_email\n",
    "        \n",
    "        # Create the body of the message.\n",
    "        html = body.format(form)\n",
    "        \n",
    "        # Record the MIME types of text/html and attach into message container.\n",
    "        msg.attach(MIMEText(html, 'html'))\n",
    "        \n",
    "        # sendmail function takes 3 arguments: sender's address, recipient's address\n",
    "        # and message to send - here it is sent as one string.\n",
    "        server.sendmail(rdrp_email, sub_email, msg.as_string())\n",
    "\n",
    "#close server\n",
    "server.quit()"
   ]
  },
  {
   "cell_type": "code",
   "execution_count": 53,
   "metadata": {
    "collapsed": false
   },
   "outputs": [
    {
     "data": {
      "text/plain": [
       "record_id\n",
       "1     Hugster\n",
       "2         NaN\n",
       "3     Hugster\n",
       "4         NaN\n",
       "5     Hugster\n",
       "6        Test\n",
       "10        NaN\n",
       "Name: first_name, dtype: object"
      ]
     },
     "execution_count": 53,
     "metadata": {},
     "output_type": "execute_result"
    }
   ],
   "source": [
    "reg_data.first_name"
   ]
  },
  {
   "cell_type": "code",
   "execution_count": 54,
   "metadata": {
    "collapsed": false
   },
   "outputs": [
    {
     "ename": "NameError",
     "evalue": "name 'rdrp' is not defined",
     "output_type": "error",
     "traceback": [
      "\u001b[0;31m---------------------------------------------------------------------------\u001b[0m",
      "\u001b[0;31mNameError\u001b[0m                                 Traceback (most recent call last)",
      "\u001b[0;32m<ipython-input-54-39895cefc1bc>\u001b[0m in \u001b[0;36m<module>\u001b[0;34m()\u001b[0m\n\u001b[1;32m      4\u001b[0m \u001b[0mmsg\u001b[0m \u001b[0;34m=\u001b[0m \u001b[0mMIMEMultipart\u001b[0m\u001b[0;34m(\u001b[0m\u001b[0;34m)\u001b[0m\u001b[0;34m\u001b[0m\u001b[0m\n\u001b[1;32m      5\u001b[0m \u001b[0mmsg\u001b[0m\u001b[0;34m[\u001b[0m\u001b[0;34m'Subject'\u001b[0m\u001b[0;34m]\u001b[0m \u001b[0;34m=\u001b[0m \u001b[0msubl\u001b[0m\u001b[0;34m\u001b[0m\u001b[0m\n\u001b[0;32m----> 6\u001b[0;31m \u001b[0mmsg\u001b[0m\u001b[0;34m[\u001b[0m\u001b[0;34m'From'\u001b[0m\u001b[0;34m]\u001b[0m \u001b[0;34m=\u001b[0m \u001b[0mrdrp\u001b[0m\u001b[0;34m\u001b[0m\u001b[0m\n\u001b[0m\u001b[1;32m      7\u001b[0m \u001b[0mmsg\u001b[0m\u001b[0;34m[\u001b[0m\u001b[0;34m'To'\u001b[0m\u001b[0;34m]\u001b[0m \u001b[0;34m=\u001b[0m \u001b[0msub_email\u001b[0m\u001b[0;34m\u001b[0m\u001b[0m\n\u001b[1;32m      8\u001b[0m \u001b[0;34m\u001b[0m\u001b[0m\n",
      "\u001b[0;31mNameError\u001b[0m: name 'rdrp' is not defined"
     ]
    }
   ],
   "source": [
    "\n",
    "\n",
    "# Create message container - the correct MIME type is multipart/alternative.\n",
    "msg = MIMEMultipart()\n",
    "msg['Subject'] = subl\n",
    "msg['From'] = rdrp\n",
    "msg['To'] = sub_email\n",
    "\n",
    "# Create the body of the message.\n",
    "html = body.format(form)\n",
    "\n",
    "# Record the MIME types of text/html and attach into message container.\n",
    "msg.attach(MIMEText(html, 'html'))\n",
    "\n",
    "# Send the message via local gmail server.\n",
    "s = smtplib.SMTP('smtp.gmail.com', 587)\n",
    "# sendmail function takes 3 arguments: sender's address, recipient's address\n",
    "# and message to send - here it is sent as one string.\n",
    "s.sendmail(rdrp, sub_email, msg.as_string())\n",
    "s.quit()"
   ]
  },
  {
   "cell_type": "code",
   "execution_count": null,
   "metadata": {
    "collapsed": true
   },
   "outputs": [],
   "source": []
  }
 ],
 "metadata": {
  "kernelspec": {
   "display_name": "Python 3",
   "language": "python",
   "name": "python3"
  },
  "language_info": {
   "codemirror_mode": {
    "name": "ipython",
    "version": 3
   },
   "file_extension": ".py",
   "mimetype": "text/x-python",
   "name": "python",
   "nbconvert_exporter": "python",
   "pygments_lexer": "ipython3",
   "version": "3.6.0"
  }
 },
 "nbformat": 4,
 "nbformat_minor": 2
}
