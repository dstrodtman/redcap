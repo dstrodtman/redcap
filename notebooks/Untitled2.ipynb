{
 "cells": [
  {
   "cell_type": "code",
   "execution_count": 1,
   "metadata": {
    "collapsed": true
   },
   "outputs": [],
   "source": [
    "import sys\n"
   ]
  },
  {
   "cell_type": "code",
   "execution_count": null,
   "metadata": {
    "collapsed": true
   },
   "outputs": [],
   "source": [
    "# First we'll deal with whether or we have subjects to transfer.\n",
    "\n",
    "if len(sys.argv) > 0:\n",
    "    if len(sys.argv) != 2:\n",
    "        sys.stdout.write('Function requires either 0 or 2 arguments and script name. You passed'+ str(len(sys.argv)))\n",
    "        sys.exit()\n",
    "    else:\n",
    "        # Define nlr and record lists\n",
    "        nlr_list = sys.argv[1].split()\n",
    "        record_list = sys.argv[2].split()\n",
    "        sys.stdout.write('Deidentifying subject data while matching new records to NLR IDs')\n",
    "else:\n",
    "    sys.stdout.write('')"
   ]
  },
  {
   "cell_type": "code",
   "execution_count": null,
   "metadata": {
    "collapsed": true
   },
   "outputs": [],
   "source": []
  }
 ],
 "metadata": {
  "kernelspec": {
   "display_name": "Python 3",
   "language": "python",
   "name": "python3"
  },
  "language_info": {
   "codemirror_mode": {
    "name": "ipython",
    "version": 3
   },
   "file_extension": ".py",
   "mimetype": "text/x-python",
   "name": "python",
   "nbconvert_exporter": "python",
   "pygments_lexer": "ipython3",
   "version": "3.6.0"
  }
 },
 "nbformat": 4,
 "nbformat_minor": 2
}
