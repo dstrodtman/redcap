{
 "cells": [
  {
   "cell_type": "code",
   "execution_count": 1,
   "metadata": {
    "collapsed": true
   },
   "outputs": [],
   "source": [
    "#!/usr/bin/env python3\n",
    "\n",
    "''' This script is designed to take cleaned data from the old NLR subject log and compare it to data in the repository and registry to see who has registered and email invites to the rest of the subjects. \n",
    "\n",
    "Is your name Patrick Donnelly? If not, you probably should ask if he really wants you running this.\n",
    "\n",
    "You will need to the following files in your downloads folder:\n",
    "\n",
    "From the OneDrive account, download nlr_sublog.csv\n",
    "From the Registry, download the report SIDs\n",
    "From the Repository, download the report NLR Outreach\n",
    "From the Repository, export the Survey Participant List (making sure that you have 'Unsubscribe' selected in the dropdown)\n",
    "\n",
    "This script will schedule emails to be sent at 11pm to all NLR subjects that have not completed RDRP registration. IMPORTANT: if you have subjects marked in the screening database that haven't yet completed registration, you should manually delete them from the nlr_sublog.csv and reupload this file.\n",
    "'''\n",
    "\n",
    "# import necessary modules\n",
    "import smtplib\n",
    "import pandas as pd\n",
    "import os\n",
    "import glob\n",
    "import sys\n",
    "import sched\n",
    "import time\n",
    "from email.mime.multipart import MIMEMultipart\n",
    "from email.mime.text import MIMEText"
   ]
  },
  {
   "cell_type": "code",
   "execution_count": 2,
   "metadata": {
    "collapsed": true
   },
   "outputs": [],
   "source": [
    "# set home directory so can be used on all OS\n",
    "home = os.path.expanduser('~')"
   ]
  },
  {
   "cell_type": "code",
   "execution_count": 50,
   "metadata": {
    "collapsed": false
   },
   "outputs": [],
   "source": [
    "# Find most recently exported files from registry and repository\n",
    "# (please note that one could also easily modify script to specify files you wish to use, but as we're trying to minimize RDRP data that's stored on machines, requiring download immediately before and then automating deletion within this script facilitates that end goal)\n",
    "# reg_file should be report XX\n",
    "# repo_file should be report XX\n",
    "# link_file should be downloaded from XX as according to wiki\n",
    "reg_file = max(glob.iglob(home+'/Downloads/RDRPRegistry_DATA_*'), key=os.path.getctime)\n",
    "repo_file = max(glob.iglob(home+'/Downloads/RDRPRepository_DATA_*'), key=os.path.getctime)\n",
    "sub_file = home+'/Downloads/nlr_sublog.csv'\n",
    "link_file = max(glob.iglob(home+'/Downloads/RDRPRepository_Participants_*'), key=os.path.getctime)"
   ]
  },
  {
   "cell_type": "code",
   "execution_count": 51,
   "metadata": {
    "collapsed": false
   },
   "outputs": [],
   "source": [
    "# Load data\n",
    "reg_data = pd.read_csv(reg_file, dtype=object)\n",
    "repo_data = pd.read_csv(repo_file, index_col='nlr_id', dtype=object)\n",
    "sub_data = pd.read_csv(sub_file, index_col='nlr_id')\n",
    "link_data = pd.read_csv(link_file, skiprows=1, header=None, names=['dummy', 'na', \n",
    "    'record_id', 'd', 'e', 'f', 'unsubscribe', 'link'], index_col='record_id', dtype=object) # headers in the file are poorly written. na, d, e, f are all not used \n"
   ]
  },
  {
   "cell_type": "code",
   "execution_count": 52,
   "metadata": {
    "collapsed": false
   },
   "outputs": [],
   "source": [
    "# Extract record_id from repo to sub_data\n",
    "sub_data['record_id'] = repo_data.record_id\n",
    "\n",
    "# And for sid\n",
    "sub_data['sid'] = repo_data.sid"
   ]
  },
  {
   "cell_type": "code",
   "execution_count": 186,
   "metadata": {
    "collapsed": false
   },
   "outputs": [
    {
     "name": "stdout",
     "output_type": "stream",
     "text": [
      "NLR registration script loaded\n"
     ]
    }
   ],
   "source": [
    "# Load the script to register NLR subs\n",
    "form = open(home+'/git/redcap/email_temp/nlr_reg.txt')\n",
    "form = form.read()\n",
    "sys.stdout.write(\"NLR registration script loaded\\n\")"
   ]
  },
  {
   "cell_type": "code",
   "execution_count": null,
   "metadata": {
    "collapsed": true
   },
   "outputs": [],
   "source": [
    "# Set subject line\n",
    "# subl = 'PATRICK'"
   ]
  },
  {
   "cell_type": "code",
   "execution_count": 53,
   "metadata": {
    "collapsed": false
   },
   "outputs": [],
   "source": [
    "# Set record_id as index for both sub and reg data (both are dtype object for comparison and floating concerns)\n",
    "sub_data.set_index('record_id', inplace=True)\n",
    "reg_data.set_index('record_id', inplace=True)\n",
    "repo_data.set_index('record_id', inplace=True)"
   ]
  },
  {
   "cell_type": "code",
   "execution_count": 188,
   "metadata": {
    "collapsed": true
   },
   "outputs": [],
   "source": [
    "# Now that all are indexed by record_id, we can add other fields...\n",
    "sub_data['unsubscribe']=link_data.unsubscribe"
   ]
  },
  {
   "cell_type": "code",
   "execution_count": 54,
   "metadata": {
    "collapsed": false
   },
   "outputs": [
    {
     "name": "stdout",
     "output_type": "stream",
     "text": [
      "Do you want to exclude subjects based on nlr_email_date? y/nn\n"
     ]
    }
   ],
   "source": [
    "# Query if we want to exclude based based on nlr_email_date (mainly for crashing script)\n",
    "if input('Do you want to exclude subjects based on nlr_email_date? y/n ') == 'y':\n",
    "    ex_date = input('\\nWhat date would you like to exclude? YYYY-MM-DD ')\n",
    "    sys.stdout.write('\\nThe following subjects have been excluded:\\n')\n",
    "else: \n",
    "    ex_date = None"
   ]
  },
  {
   "cell_type": "code",
   "execution_count": 55,
   "metadata": {
    "collapsed": false
   },
   "outputs": [],
   "source": [
    "if ex_date:\n",
    "    for sub in repo_data.index[repo_data.nlr_email_date==ex_date]:\n",
    "        sys.stdout.write('{} {}\\n'.format(sub_data.first_name[sub], sub_data.last_name[sub]))\n",
    "    sub_data.drop(repo_data.index[repo_data.nlr_email_date==ex_date], inplace = True)"
   ]
  },
  {
   "cell_type": "code",
   "execution_count": 190,
   "metadata": {
    "collapsed": false
   },
   "outputs": [],
   "source": [
    "# Set the identity of the individual sending the email\n",
    "lab_name = 'Patrick Donnelly'\n",
    "lab_role = 'Graduate Research Assistant'"
   ]
  },
  {
   "cell_type": "code",
   "execution_count": 56,
   "metadata": {
    "collapsed": false
   },
   "outputs": [],
   "source": [
    "# Find intersection between sub and reg data (these are NLR subjects that have already registered)\n",
    "overlap = sub_data.index.intersection(reg_data.index)"
   ]
  },
  {
   "cell_type": "code",
   "execution_count": 57,
   "metadata": {
    "collapsed": false
   },
   "outputs": [
    {
     "data": {
      "text/plain": [
       "Index(['12', '30', '60', '70', '91', '228', '231', '232', '234', '235', '237',\n",
       "       '238', '242', '243', '244', '245', '246', '248', '251', '255', '256',\n",
       "       '257', '260', '266', '273'],\n",
       "      dtype='object', name='record_id')"
      ]
     },
     "execution_count": 57,
     "metadata": {},
     "output_type": "execute_result"
    }
   ],
   "source": [
    "overlap"
   ]
  },
  {
   "cell_type": "code",
   "execution_count": 58,
   "metadata": {
    "collapsed": false
   },
   "outputs": [
    {
     "name": "stdout",
     "output_type": "stream",
     "text": [
      "Jubal Kleweno has already registered\n",
      "Norah Foster has already registered\n",
      "Collin Frasher has already registered\n",
      "Austin Whalen has already registered\n",
      "Hannah Waterman has already registered\n",
      "Marianna Gunter has already registered\n",
      "Lillian Gobel has already registered\n",
      "Pearl Hedin has already registered\n",
      "Evin Kinahan has already registered\n",
      "Anna Kinahan has already registered\n",
      "Zac Dagg has already registered\n",
      "Allison Butler has already registered\n",
      "Emily Gade has already registered\n",
      "Derek Turner has already registered\n",
      "Max Leitner has already registered\n",
      "Julie Higgins has already registered\n",
      "Rebecca Frost has already registered\n",
      "Trevor Collins has already registered\n",
      "Rachael Cumberland has already registered\n",
      "Micah Ketola has already registered\n",
      "Catherine Thompson has already registered\n",
      "Robert Cribbs has already registered\n",
      "Roy Chapman has already registered\n",
      "Juliana Pesavento has already registered\n",
      "Benjamin Vornbrock has already registered\n"
     ]
    }
   ],
   "source": [
    "# Set these subs as having registered, then use this setting to match with other registered NLR subs\n",
    "for sub in overlap:\n",
    "    repo_data.nlr_reg[sub] = '1'\n",
    "for sub in repo_data.index[repo_data.nlr_reg=='1']:\n",
    "    sys.stdout.write('{} {} has already registered\\n'.format(sub_data.first_name[sub], sub_data.last_name[sub]))"
   ]
  },
  {
   "cell_type": "code",
   "execution_count": 49,
   "metadata": {
    "collapsed": false
   },
   "outputs": [
    {
     "name": "stdout",
     "output_type": "stream",
     "text": [
      "\n",
      "Registered subjects will not receive emails\n"
     ]
    }
   ],
   "source": [
    "# Drop all these subs from the list to receive emails\n",
    "sub_data.drop(repo_data.index[repo_data.nlr_reg=='1'], inplace = True)\n",
    "sys.stdout.write('\\nRegistered subjects will not receive emails\\n')"
   ]
  },
  {
   "cell_type": "code",
   "execution_count": 195,
   "metadata": {
    "collapsed": false,
    "scrolled": true
   },
   "outputs": [],
   "source": [
    "# Capture today's date\n",
    "today = time.strftime('%Y-%m-%d', time.localtime())"
   ]
  },
  {
   "cell_type": "code",
   "execution_count": 196,
   "metadata": {
    "collapsed": true
   },
   "outputs": [],
   "source": [
    "# Set all features not to be iterated\n",
    "# Originating email\n",
    "from_email = \"rdrp@uw.edu\""
   ]
  },
  {
   "cell_type": "code",
   "execution_count": 197,
   "metadata": {
    "collapsed": true
   },
   "outputs": [],
   "source": [
    "# Set up html container to plug text into\n",
    "body = \"\"\"\\\n",
    "<html>\n",
    "  <head></head>\n",
    "  <body>\n",
    "    <p>{}\n",
    "    </p>\n",
    "  </body>\n",
    "</html>\n",
    "\"\"\""
   ]
  },
  {
   "cell_type": "code",
   "execution_count": 198,
   "metadata": {
    "collapsed": false
   },
   "outputs": [
    {
     "name": "stdout",
     "output_type": "stream",
     "text": [
      "Please enter password for rdrp@uw.edu: readingrainier214\n"
     ]
    }
   ],
   "source": [
    "# Query for password and assign to variable\n",
    "pswd = input('Please enter password for {}: '.format(from_email))"
   ]
  },
  {
   "cell_type": "code",
   "execution_count": 199,
   "metadata": {
    "collapsed": false,
    "scrolled": true
   },
   "outputs": [
    {
     "name": "stdout",
     "output_type": "stream",
     "text": [
      "Emails scheduled to send at 11 May 17 23:00\n",
      "If this time is not tonight at 11pm, please exit script with Ctrl+C and troubleshoot\n"
     ]
    }
   ],
   "source": [
    "# set the start time as 11pm today, print this out to the command line\n",
    "start_time_str = time.strftime('%d %b %y', time.localtime()) +' 23:00'\n",
    "sys.stdout.write('Emails scheduled to send at ' + start_time_str +'\\nIf this time is not tonight at 11pm, please exit script with Ctrl+C and troubleshoot\\n')\n",
    "\n",
    "# Convert this start_time to seconds since epoch to pass to sched\n",
    "start_time = time.mktime(time.strptime(start_time_str, '%d %b %y %H:%M'))"
   ]
  },
  {
   "cell_type": "code",
   "execution_count": 39,
   "metadata": {
    "collapsed": false
   },
   "outputs": [],
   "source": [
    "# Create the scheduling object\n",
    "s = sched.scheduler(time.time, time.sleep)"
   ]
  },
  {
   "cell_type": "code",
   "execution_count": 45,
   "metadata": {
    "collapsed": false
   },
   "outputs": [],
   "source": [
    "# Set an event with absolute time, which will delay rest of script until 11pm tonight\n",
    "s.enterabs(start_time, 1, time.time, ())\n",
    "s.run()"
   ]
  },
  {
   "cell_type": "code",
   "execution_count": null,
   "metadata": {
    "collapsed": true
   },
   "outputs": [],
   "source": [
    "# Start server and query for password\n",
    "server = smtplib.SMTP('smtp.gmail.com', 587)\n",
    "server.starttls()\n",
    "server.login(from_email, pswd)"
   ]
  },
  {
   "cell_type": "code",
   "execution_count": 200,
   "metadata": {
    "collapsed": false
   },
   "outputs": [
    {
     "name": "stdout",
     "output_type": "stream",
     "text": [
      "Email sent to Lily Goodall\n",
      "Email sent to Reeghan Sonnenfeld\n",
      "Email sent to Ariana Cory\n",
      "Email sent to Kellen McDonald\n",
      "Email sent to Taegen McDonald\n",
      "Email sent to Kyle Tracy\n",
      "Email sent to Hannah Hancock\n",
      "Email sent to Jacob Hancock\n",
      "Email sent to Annie Rasmussen\n",
      "Email sent to Jubal Kleweno\n",
      "Email sent to Phineas Stone\n",
      "Email sent to Callum Givens\n",
      "Email sent to Isaac Harvey\n",
      "Email sent to Nathan Harvey\n",
      "Email sent to Graham Griswold\n",
      "Email sent to Madeline Dang\n",
      "Email sent to Avery Thompson\n",
      "Email sent to Olivia Carlson\n",
      "Email sent to Athena McDermott\n",
      "Email sent to Kennady Andrews\n",
      "Email sent to Ruby Wolken\n",
      "Email sent to Maeve Sturges\n",
      "Email sent to Will Purves\n",
      "Email sent to Michael Lesirge\n",
      "Email sent to Rowan Dean\n",
      "Email sent to Gillian Reeder\n",
      "Email sent to Lillian Atwood\n",
      "Email sent to Norah Foster\n",
      "Email sent to Malia Bryant\n",
      "Email sent to Gabe Chapple\n",
      "Email sent to Owen Lewis\n",
      "Email sent to Aspen Cash\n",
      "Email sent to Trevor Fritzler\n",
      "Email sent to Ravenna Dolan\n",
      "Email sent to Rosie Cole\n",
      "Email sent to Sydney Ramsey\n",
      "Email sent to Henry Chronik\n",
      "Email sent to Cameron Murray\n",
      "Email sent to Eli Fox\n",
      "Email sent to Levi Fiscus\n",
      "Email sent to Solomon Fiscus\n",
      "Email sent to Mariano Alvarado\n",
      "Email sent to Kalyani Hauser\n",
      "Email sent to Grace Marieu\n",
      "Email sent to Eli Hansen\n",
      "Email sent to Tom Hansen\n",
      "Email sent to Hudson Stevens\n",
      "Email sent to Layla Leif\n",
      "Email sent to Serena Pook\n",
      "Email sent to Shay Olson\n",
      "Email sent to Alec Olson\n",
      "Email sent to Grace Mirabile\n",
      "Email sent to Myla Merryweather\n",
      "Email sent to Cameron Pile\n",
      "Email sent to Collin Frasher\n",
      "Email sent to Eila Patel\n",
      "Email sent to Nadjia Gier\n",
      "Email sent to Kazimir Gier\n",
      "Email sent to Nicholas Babington\n",
      "Email sent to Andrew Tacker\n",
      "Email sent to Demaree Fraser\n",
      "Email sent to Sylvia Bates\n",
      "Email sent to Talon Linn\n",
      "Email sent to Macy Linn\n",
      "Email sent to Austin Whalen\n",
      "Email sent to Garrett Williams\n",
      "Email sent to Benjamin Kohut\n",
      "Email sent to Zahara Ritchie-Canady\n",
      "Email sent to Alex McKenney\n",
      "Email sent to Gabriella Saliba\n",
      "Email sent to Djinia Dawn\n",
      "Email sent to Alivia MacKenzie\n",
      "Email sent to Annie-Kate McDanniel\n",
      "Email sent to Asha Cary\n",
      "Email sent to LeAnne Matthews\n",
      "Email sent to Leif Kregenow\n",
      "Email sent to Joyful Betcher\n",
      "Email sent to Rochelle Bowyer\n",
      "Email sent to Serena Starr\n",
      "Email sent to Hannah Waterman\n",
      "Email sent to Amrita Huja\n",
      "Email sent to Kevin Toth\n",
      "Email sent to Andrew Estey\n",
      "Email sent to Tamitha Tidwell\n",
      "Email sent to Maria Franciscovich\n",
      "Email sent to Altaire Anderson\n",
      "Email sent to Gretchen Price\n",
      "Email sent to Shelby Keith\n",
      "Email sent to Tony Ive\n",
      "Email sent to Patience McGhan\n",
      "Email sent to Damon O'Grady\n",
      "Email sent to Noah Gravlee\n",
      "Email sent to Ian Haider\n",
      "Email sent to Aidan Sleavin\n",
      "Email sent to Laurence Graham\n",
      "Email sent to Karine Chen\n",
      "Email sent to Cris Cyders\n",
      "Email sent to Jean Katayama\n",
      "Email sent to Stephanie Ballard\n"
     ]
    }
   ],
   "source": [
    "# Scrape subject data from info, input into form.format in the same order as the positions\n",
    "# to be filled in.\n",
    "for sub in sub_data.index: # We have already dropped subs that don't need to be contacted\n",
    "    time.sleep(1) # add 1 second pause between emails\n",
    "    if pd.isnull(sub_data.parent_first_name[sub]):\n",
    "        ename = sub_data.first_name[sub]\n",
    "        your = 'your'\n",
    "        body = form.format(ename=ename, your=your, unsubscribe=sub_data.unsubscribe[sub], lab_name=lab_name, lab_role=lab_role)\n",
    "        sub_email = sub_data.email[sub]\n",
    "#         # Create message container - the correct MIME type is multipart/alternative.\n",
    "#         msg = MIMEMultipart()\n",
    "#         msg['Subject'] = subl\n",
    "#         msg['From'] = from_email\n",
    "#         msg['To'] = sub_email\n",
    "        \n",
    "#         # Create the body of the message.\n",
    "#         html = body.format(form)\n",
    "        \n",
    "#         # Record the MIME types of text/html and attach into message container.\n",
    "#         msg.attach(MIMEText(html, 'html'))\n",
    "        \n",
    "#         # sendmail function takes 3 arguments: sender's address, recipient's address\n",
    "#         # and message to send - here it is sent as one string.\n",
    "#         server.sendmail(from_email, sub_email, msg.as_string())\n",
    "        \n",
    "        # Record date email was sent for repo\n",
    "        repo_data.nlr_email_date[sub] = today\n",
    "        \n",
    "        # update on status\n",
    "        sys.stdout.write('Email sent to {} {}\\n'.format(sub_data.first_name[sub], sub_data.last_name[sub]))\n",
    "        \n",
    "    else:\n",
    "        ename = sub_data.parent_first_name[sub]\n",
    "        your = sub_data.first_name[sub] + \"'s\"\n",
    "        body = form.format(ename=ename, your=your, unsubscribe=sub_data.unsubscribe[sub], lab_name=lab_name, lab_role=lab_role)\n",
    "        sub_email = sub_data.email[sub]\n",
    "#         # Create message container - the correct MIME type is multipart/alternative.\n",
    "#         msg = MIMEMultipart()\n",
    "#         msg['Subject'] = subl\n",
    "#         msg['From'] = from_email\n",
    "#         msg['To'] = sub_email\n",
    "        \n",
    "#         # Create the body of the message.\n",
    "#         html = body.format(form)\n",
    "        \n",
    "#         # Record the MIME types of text/html and attach into message container.\n",
    "#         msg.attach(MIMEText(html, 'html'))\n",
    "        \n",
    "#         # sendmail function takes 3 arguments: sender's address, recipient's address\n",
    "#         # and message to send - here it is sent as one string.\n",
    "#         server.sendmail(from_email, sub_email, msg.as_string())\n",
    "        \n",
    "         # Record date email was sent for repo\n",
    "        repo_data.nlr_email_date[sub] = today\n",
    "        \n",
    "        # update on status\n",
    "        sys.stdout.write('Email sent to {} {}\\n'.format(sub_data.first_name[sub], sub_data.last_name[sub]))\n",
    "\n",
    "# # close server\n",
    "# server.quit()"
   ]
  },
  {
   "cell_type": "code",
   "execution_count": 201,
   "metadata": {
    "collapsed": false
   },
   "outputs": [
    {
     "name": "stdout",
     "output_type": "stream",
     "text": [
      "\n",
      "Please import repo_nlr_reg.csv to Repository\n"
     ]
    }
   ],
   "source": [
    "# Write out updated repository file to upload who has received email\n",
    "repo_data.to_csv(home+'/Downloads/repo_nlr_reg.csv')\n",
    "sys.stdout.write('\\nPlease import repo_nlr_reg.csv to Repository\\n')"
   ]
  },
  {
   "cell_type": "code",
   "execution_count": null,
   "metadata": {
    "collapsed": true
   },
   "outputs": [],
   "source": [
    "# delete the files from which we're working for security!\n",
    "os.remove(reg_file)\n",
    "os.remove(repo_file)\n",
    "os.remove(link_file)\n",
    "os.remove(sub_file)\n"
   ]
  }
 ],
 "metadata": {
  "kernelspec": {
   "display_name": "Python 3",
   "language": "python",
   "name": "python3"
  },
  "language_info": {
   "codemirror_mode": {
    "name": "ipython",
    "version": 3
   },
   "file_extension": ".py",
   "mimetype": "text/x-python",
   "name": "python",
   "nbconvert_exporter": "python",
   "pygments_lexer": "ipython3",
   "version": "3.6.0"
  }
 },
 "nbformat": 4,
 "nbformat_minor": 2
}
