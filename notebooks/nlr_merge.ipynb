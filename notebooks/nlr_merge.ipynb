{
 "cells": [
  {
   "cell_type": "code",
   "execution_count": 1,
   "metadata": {
    "collapsed": true
   },
   "outputs": [],
   "source": [
    "# This script is designed to merge the registration info of an NLR subject with the data they already have in the repository.\n",
    "\n",
    "# Run script from command line as: python nlr_merge.py nlr_id record_id\n",
    "# nlr_id format: '123_XX' or '123_XX 456_XX 789_XX'\n",
    "# record_id format: '123' or '123 456 789'\n",
    "\n",
    "# Requires: record_id from Screening Database, nlr_id (should be stored in Repository, same as Subject ID from NLR studies)\n",
    "# Also requires: a newly downloaded 'Export' report from the screening database, and 'SIDs' report from Repository"
   ]
  },
  {
   "cell_type": "code",
   "execution_count": 263,
   "metadata": {
    "collapsed": true
   },
   "outputs": [],
   "source": [
    "import pandas as pd\n",
    "import numpy as np\n",
    "import os\n",
    "import glob"
   ]
  },
  {
   "cell_type": "code",
   "execution_count": 264,
   "metadata": {
    "collapsed": false
   },
   "outputs": [],
   "source": [
    "# set home directory so can be used on all OS\n",
    "home = os.path.expanduser('~')\n",
    "\n",
    "# find the most recent data file exported from the screening database and set it as file_scr\n",
    "file = max(glob.iglob(home+'/Downloads/RDRPScreeningDatabas_DATA_*'), key=os.path.getctime)\n",
    "\n",
    "# load screening data using the record_id as the index\n",
    "scr = pd.read_csv(file, index_col='record_id', dtype=object)\n",
    "\n",
    "# load id_key using the record_id as the index\n",
    "id_key = pd.read_csv(home+'/git/redcap/id_key.csv', dtype=object)"
   ]
  },
  {
   "cell_type": "code",
   "execution_count": 281,
   "metadata": {
    "collapsed": false
   },
   "outputs": [
    {
     "data": {
      "text/html": [
       "<div>\n",
       "<table border=\"1\" class=\"dataframe\">\n",
       "  <thead>\n",
       "    <tr style=\"text-align: right;\">\n",
       "      <th></th>\n",
       "      <th>child</th>\n",
       "      <th>adult</th>\n",
       "      <th>teen</th>\n",
       "      <th>who_complete</th>\n",
       "      <th>xx</th>\n",
       "      <th>are_you</th>\n",
       "      <th>are_you_cap</th>\n",
       "      <th>do_you</th>\n",
       "      <th>do_you_cap</th>\n",
       "      <th>have_you</th>\n",
       "      <th>...</th>\n",
       "      <th>brain_injury_cons</th>\n",
       "      <th>psych_dx</th>\n",
       "      <th>meds</th>\n",
       "      <th>scr_metal</th>\n",
       "      <th>scr_mri</th>\n",
       "      <th>reg_xfer</th>\n",
       "      <th>repo_xfer</th>\n",
       "      <th>xfer_complete</th>\n",
       "      <th>scr_delete</th>\n",
       "      <th>delete_complete</th>\n",
       "    </tr>\n",
       "    <tr>\n",
       "      <th>record_id</th>\n",
       "      <th></th>\n",
       "      <th></th>\n",
       "      <th></th>\n",
       "      <th></th>\n",
       "      <th></th>\n",
       "      <th></th>\n",
       "      <th></th>\n",
       "      <th></th>\n",
       "      <th></th>\n",
       "      <th></th>\n",
       "      <th></th>\n",
       "      <th></th>\n",
       "      <th></th>\n",
       "      <th></th>\n",
       "      <th></th>\n",
       "      <th></th>\n",
       "      <th></th>\n",
       "      <th></th>\n",
       "      <th></th>\n",
       "      <th></th>\n",
       "      <th></th>\n",
       "    </tr>\n",
       "  </thead>\n",
       "  <tbody>\n",
       "    <tr>\n",
       "      <th>326</th>\n",
       "      <td>0</td>\n",
       "      <td>1</td>\n",
       "      <td>NaN</td>\n",
       "      <td>2</td>\n",
       "      <td>0</td>\n",
       "      <td>0</td>\n",
       "      <td>0</td>\n",
       "      <td>0</td>\n",
       "      <td>0</td>\n",
       "      <td>0</td>\n",
       "      <td>...</td>\n",
       "      <td>NaN</td>\n",
       "      <td>1</td>\n",
       "      <td>0</td>\n",
       "      <td>0</td>\n",
       "      <td>0</td>\n",
       "      <td>1</td>\n",
       "      <td>1</td>\n",
       "      <td>0</td>\n",
       "      <td>1</td>\n",
       "      <td>0</td>\n",
       "    </tr>\n",
       "  </tbody>\n",
       "</table>\n",
       "<p>1 rows × 153 columns</p>\n",
       "</div>"
      ],
      "text/plain": [
       "          child adult teen who_complete xx are_you are_you_cap do_you  \\\n",
       "record_id                                                               \n",
       "326           0     1  NaN            2  0       0           0      0   \n",
       "\n",
       "          do_you_cap have_you       ...       brain_injury_cons psych_dx meds  \\\n",
       "record_id                           ...                                         \n",
       "326                0        0       ...                     NaN        1    0   \n",
       "\n",
       "          scr_metal scr_mri reg_xfer repo_xfer xfer_complete scr_delete  \\\n",
       "record_id                                                                 \n",
       "326               0       0        1         1             0          1   \n",
       "\n",
       "          delete_complete  \n",
       "record_id                  \n",
       "326                     0  \n",
       "\n",
       "[1 rows x 153 columns]"
      ]
     },
     "execution_count": 281,
     "metadata": {},
     "output_type": "execute_result"
    }
   ],
   "source": [
    "scr"
   ]
  },
  {
   "cell_type": "code",
   "execution_count": 267,
   "metadata": {
    "collapsed": false,
    "scrolled": false
   },
   "outputs": [],
   "source": [
    "# Before changing record_id, set xfer values to complete\n",
    "xfer = scr\n",
    "xfer.reg_xfer=1\n",
    "xfer.repo_xfer=1\n",
    "xfer.scr_delete=1\n",
    "\n",
    "# create new DataFrame to mark subs as transfered\n",
    "xfer = pd.DataFrame(xfer, columns=['reg_xfer', 'repo_xfer', 'scr_delete'])\n"
   ]
  },
  {
   "cell_type": "code",
   "execution_count": 283,
   "metadata": {
    "collapsed": false
   },
   "outputs": [
    {
     "data": {
      "text/html": [
       "<div>\n",
       "<table border=\"1\" class=\"dataframe\">\n",
       "  <thead>\n",
       "    <tr style=\"text-align: right;\">\n",
       "      <th></th>\n",
       "      <th>adhd_dx</th>\n",
       "      <th>adult</th>\n",
       "      <th>age</th>\n",
       "      <th>age_months</th>\n",
       "      <th>are_you</th>\n",
       "      <th>are_you_cap</th>\n",
       "      <th>aud_dis</th>\n",
       "      <th>aud_dis_dx___1</th>\n",
       "      <th>aud_dis_dx___2</th>\n",
       "      <th>aud_dis_dx___3</th>\n",
       "      <th>...</th>\n",
       "      <th>you_are</th>\n",
       "      <th>you_are_cap</th>\n",
       "      <th>you_cap</th>\n",
       "      <th>you_have</th>\n",
       "      <th>you_have_cap</th>\n",
       "      <th>you_or_your</th>\n",
       "      <th>you_or_your_cap</th>\n",
       "      <th>your</th>\n",
       "      <th>your_cap</th>\n",
       "      <th>zip</th>\n",
       "    </tr>\n",
       "    <tr>\n",
       "      <th>record_id</th>\n",
       "      <th></th>\n",
       "      <th></th>\n",
       "      <th></th>\n",
       "      <th></th>\n",
       "      <th></th>\n",
       "      <th></th>\n",
       "      <th></th>\n",
       "      <th></th>\n",
       "      <th></th>\n",
       "      <th></th>\n",
       "      <th></th>\n",
       "      <th></th>\n",
       "      <th></th>\n",
       "      <th></th>\n",
       "      <th></th>\n",
       "      <th></th>\n",
       "      <th></th>\n",
       "      <th></th>\n",
       "      <th></th>\n",
       "      <th></th>\n",
       "      <th></th>\n",
       "    </tr>\n",
       "  </thead>\n",
       "  <tbody>\n",
       "    <tr>\n",
       "      <th>103</th>\n",
       "      <td>0.0</td>\n",
       "      <td>1.0</td>\n",
       "      <td>21.043439</td>\n",
       "      <td>252.495346</td>\n",
       "      <td>0.0</td>\n",
       "      <td>0.0</td>\n",
       "      <td>0.0</td>\n",
       "      <td>0.0</td>\n",
       "      <td>0.0</td>\n",
       "      <td>0.0</td>\n",
       "      <td>...</td>\n",
       "      <td>0.0</td>\n",
       "      <td>0.0</td>\n",
       "      <td>0.0</td>\n",
       "      <td>0.0</td>\n",
       "      <td>0.0</td>\n",
       "      <td>0.0</td>\n",
       "      <td>0.0</td>\n",
       "      <td>0.0</td>\n",
       "      <td>0.0</td>\n",
       "      <td>98122.0</td>\n",
       "    </tr>\n",
       "  </tbody>\n",
       "</table>\n",
       "<p>1 rows × 156 columns</p>\n",
       "</div>"
      ],
      "text/plain": [
       "           adhd_dx  adult        age  age_months  are_you  are_you_cap  \\\n",
       "record_id                                                                \n",
       "103            0.0    1.0  21.043439  252.495346      0.0          0.0   \n",
       "\n",
       "           aud_dis  aud_dis_dx___1  aud_dis_dx___2  aud_dis_dx___3   ...     \\\n",
       "record_id                                                            ...      \n",
       "103            0.0             0.0             0.0             0.0   ...      \n",
       "\n",
       "           you_are  you_are_cap  you_cap  you_have  you_have_cap  you_or_your  \\\n",
       "record_id                                                                       \n",
       "103            0.0          0.0      0.0       0.0           0.0          0.0   \n",
       "\n",
       "           you_or_your_cap  your  your_cap      zip  \n",
       "record_id                                            \n",
       "103                    0.0   0.0       0.0  98122.0  \n",
       "\n",
       "[1 rows x 156 columns]"
      ]
     },
     "execution_count": 283,
     "metadata": {},
     "output_type": "execute_result"
    }
   ],
   "source": [
    "comb_sub"
   ]
  },
  {
   "cell_type": "code",
   "execution_count": 287,
   "metadata": {
    "collapsed": false
   },
   "outputs": [],
   "source": [
    "# Seed DataFrame for indexing\n",
    "fixed_id=pd.DataFrame(columns=id_key.columns)\n",
    "fixed_id.set_index('record_id', inplace=True)\n"
   ]
  },
  {
   "cell_type": "code",
   "execution_count": 290,
   "metadata": {
    "collapsed": false
   },
   "outputs": [
    {
     "name": "stdout",
     "output_type": "stream",
     "text": [
      "Enter nlr_id for Anaistasia Gray: 524_AG\n"
     ]
    },
    {
     "ename": "KeyError",
     "evalue": "'record_id'",
     "output_type": "error",
     "traceback": [
      "\u001b[0;31m---------------------------------------------------------------------------\u001b[0m",
      "\u001b[0;31mKeyError\u001b[0m                                  Traceback (most recent call last)",
      "\u001b[0;32m/Users/douglasstrodtman/anaconda3/lib/python3.6/site-packages/pandas/indexes/base.py\u001b[0m in \u001b[0;36mget_loc\u001b[0;34m(self, key, method, tolerance)\u001b[0m\n\u001b[1;32m   2133\u001b[0m             \u001b[0;32mtry\u001b[0m\u001b[0;34m:\u001b[0m\u001b[0;34m\u001b[0m\u001b[0m\n\u001b[0;32m-> 2134\u001b[0;31m                 \u001b[0;32mreturn\u001b[0m \u001b[0mself\u001b[0m\u001b[0;34m.\u001b[0m\u001b[0m_engine\u001b[0m\u001b[0;34m.\u001b[0m\u001b[0mget_loc\u001b[0m\u001b[0;34m(\u001b[0m\u001b[0mkey\u001b[0m\u001b[0;34m)\u001b[0m\u001b[0;34m\u001b[0m\u001b[0m\n\u001b[0m\u001b[1;32m   2135\u001b[0m             \u001b[0;32mexcept\u001b[0m \u001b[0mKeyError\u001b[0m\u001b[0;34m:\u001b[0m\u001b[0;34m\u001b[0m\u001b[0m\n",
      "\u001b[0;32mpandas/index.pyx\u001b[0m in \u001b[0;36mpandas.index.IndexEngine.get_loc (pandas/index.c:4433)\u001b[0;34m()\u001b[0m\n",
      "\u001b[0;32mpandas/index.pyx\u001b[0m in \u001b[0;36mpandas.index.IndexEngine.get_loc (pandas/index.c:4279)\u001b[0;34m()\u001b[0m\n",
      "\u001b[0;32mpandas/src/hashtable_class_helper.pxi\u001b[0m in \u001b[0;36mpandas.hashtable.PyObjectHashTable.get_item (pandas/hashtable.c:13742)\u001b[0;34m()\u001b[0m\n",
      "\u001b[0;32mpandas/src/hashtable_class_helper.pxi\u001b[0m in \u001b[0;36mpandas.hashtable.PyObjectHashTable.get_item (pandas/hashtable.c:13696)\u001b[0;34m()\u001b[0m\n",
      "\u001b[0;31mKeyError\u001b[0m: 'record_id'",
      "\nDuring handling of the above exception, another exception occurred:\n",
      "\u001b[0;31mKeyError\u001b[0m                                  Traceback (most recent call last)",
      "\u001b[0;32m<ipython-input-290-d2560c0b7f61>\u001b[0m in \u001b[0;36m<module>\u001b[0;34m()\u001b[0m\n\u001b[1;32m     10\u001b[0m     \u001b[0mtemp_scr\u001b[0m\u001b[0;34m.\u001b[0m\u001b[0mrecord_id\u001b[0m \u001b[0;34m=\u001b[0m \u001b[0mtemp_id\u001b[0m\u001b[0;34m.\u001b[0m\u001b[0mrecord_id\u001b[0m\u001b[0;34m[\u001b[0m\u001b[0mtemp_id\u001b[0m\u001b[0;34m.\u001b[0m\u001b[0mindex\u001b[0m\u001b[0;34m[\u001b[0m\u001b[0;36m0\u001b[0m\u001b[0;34m]\u001b[0m\u001b[0;34m]\u001b[0m\u001b[0;34m\u001b[0m\u001b[0m\n\u001b[1;32m     11\u001b[0m     \u001b[0;31m# set this record_id for the index in both\u001b[0m\u001b[0;34m\u001b[0m\u001b[0;34m\u001b[0m\u001b[0m\n\u001b[0;32m---> 12\u001b[0;31m     \u001b[0mtemp_scr\u001b[0m\u001b[0;34m.\u001b[0m\u001b[0mset_index\u001b[0m\u001b[0;34m(\u001b[0m\u001b[0;34m'record_id'\u001b[0m\u001b[0;34m,\u001b[0m \u001b[0minplace\u001b[0m\u001b[0;34m=\u001b[0m\u001b[0;32mTrue\u001b[0m\u001b[0;34m)\u001b[0m\u001b[0;34m\u001b[0m\u001b[0m\n\u001b[0m\u001b[1;32m     13\u001b[0m     \u001b[0mtemp_id\u001b[0m\u001b[0;34m.\u001b[0m\u001b[0mset_index\u001b[0m\u001b[0;34m(\u001b[0m\u001b[0;34m'record_id'\u001b[0m\u001b[0;34m,\u001b[0m \u001b[0minplace\u001b[0m\u001b[0;34m=\u001b[0m\u001b[0;32mTrue\u001b[0m\u001b[0;34m)\u001b[0m\u001b[0;34m\u001b[0m\u001b[0m\n\u001b[1;32m     14\u001b[0m     \u001b[0;31m# combine this data\u001b[0m\u001b[0;34m\u001b[0m\u001b[0;34m\u001b[0m\u001b[0m\n",
      "\u001b[0;32m/Users/douglasstrodtman/anaconda3/lib/python3.6/site-packages/pandas/core/frame.py\u001b[0m in \u001b[0;36mset_index\u001b[0;34m(self, keys, drop, append, inplace, verify_integrity)\u001b[0m\n\u001b[1;32m   2915\u001b[0m                 \u001b[0mnames\u001b[0m\u001b[0;34m.\u001b[0m\u001b[0mappend\u001b[0m\u001b[0;34m(\u001b[0m\u001b[0;32mNone\u001b[0m\u001b[0;34m)\u001b[0m\u001b[0;34m\u001b[0m\u001b[0m\n\u001b[1;32m   2916\u001b[0m             \u001b[0;32melse\u001b[0m\u001b[0;34m:\u001b[0m\u001b[0;34m\u001b[0m\u001b[0m\n\u001b[0;32m-> 2917\u001b[0;31m                 \u001b[0mlevel\u001b[0m \u001b[0;34m=\u001b[0m \u001b[0mframe\u001b[0m\u001b[0;34m[\u001b[0m\u001b[0mcol\u001b[0m\u001b[0;34m]\u001b[0m\u001b[0;34m.\u001b[0m\u001b[0m_values\u001b[0m\u001b[0;34m\u001b[0m\u001b[0m\n\u001b[0m\u001b[1;32m   2918\u001b[0m                 \u001b[0mnames\u001b[0m\u001b[0;34m.\u001b[0m\u001b[0mappend\u001b[0m\u001b[0;34m(\u001b[0m\u001b[0mcol\u001b[0m\u001b[0;34m)\u001b[0m\u001b[0;34m\u001b[0m\u001b[0m\n\u001b[1;32m   2919\u001b[0m                 \u001b[0;32mif\u001b[0m \u001b[0mdrop\u001b[0m\u001b[0;34m:\u001b[0m\u001b[0;34m\u001b[0m\u001b[0m\n",
      "\u001b[0;32m/Users/douglasstrodtman/anaconda3/lib/python3.6/site-packages/pandas/core/frame.py\u001b[0m in \u001b[0;36m__getitem__\u001b[0;34m(self, key)\u001b[0m\n\u001b[1;32m   2057\u001b[0m             \u001b[0;32mreturn\u001b[0m \u001b[0mself\u001b[0m\u001b[0;34m.\u001b[0m\u001b[0m_getitem_multilevel\u001b[0m\u001b[0;34m(\u001b[0m\u001b[0mkey\u001b[0m\u001b[0;34m)\u001b[0m\u001b[0;34m\u001b[0m\u001b[0m\n\u001b[1;32m   2058\u001b[0m         \u001b[0;32melse\u001b[0m\u001b[0;34m:\u001b[0m\u001b[0;34m\u001b[0m\u001b[0m\n\u001b[0;32m-> 2059\u001b[0;31m             \u001b[0;32mreturn\u001b[0m \u001b[0mself\u001b[0m\u001b[0;34m.\u001b[0m\u001b[0m_getitem_column\u001b[0m\u001b[0;34m(\u001b[0m\u001b[0mkey\u001b[0m\u001b[0;34m)\u001b[0m\u001b[0;34m\u001b[0m\u001b[0m\n\u001b[0m\u001b[1;32m   2060\u001b[0m \u001b[0;34m\u001b[0m\u001b[0m\n\u001b[1;32m   2061\u001b[0m     \u001b[0;32mdef\u001b[0m \u001b[0m_getitem_column\u001b[0m\u001b[0;34m(\u001b[0m\u001b[0mself\u001b[0m\u001b[0;34m,\u001b[0m \u001b[0mkey\u001b[0m\u001b[0;34m)\u001b[0m\u001b[0;34m:\u001b[0m\u001b[0;34m\u001b[0m\u001b[0m\n",
      "\u001b[0;32m/Users/douglasstrodtman/anaconda3/lib/python3.6/site-packages/pandas/core/frame.py\u001b[0m in \u001b[0;36m_getitem_column\u001b[0;34m(self, key)\u001b[0m\n\u001b[1;32m   2064\u001b[0m         \u001b[0;31m# get column\u001b[0m\u001b[0;34m\u001b[0m\u001b[0;34m\u001b[0m\u001b[0m\n\u001b[1;32m   2065\u001b[0m         \u001b[0;32mif\u001b[0m \u001b[0mself\u001b[0m\u001b[0;34m.\u001b[0m\u001b[0mcolumns\u001b[0m\u001b[0;34m.\u001b[0m\u001b[0mis_unique\u001b[0m\u001b[0;34m:\u001b[0m\u001b[0;34m\u001b[0m\u001b[0m\n\u001b[0;32m-> 2066\u001b[0;31m             \u001b[0;32mreturn\u001b[0m \u001b[0mself\u001b[0m\u001b[0;34m.\u001b[0m\u001b[0m_get_item_cache\u001b[0m\u001b[0;34m(\u001b[0m\u001b[0mkey\u001b[0m\u001b[0;34m)\u001b[0m\u001b[0;34m\u001b[0m\u001b[0m\n\u001b[0m\u001b[1;32m   2067\u001b[0m \u001b[0;34m\u001b[0m\u001b[0m\n\u001b[1;32m   2068\u001b[0m         \u001b[0;31m# duplicate columns & possible reduce dimensionality\u001b[0m\u001b[0;34m\u001b[0m\u001b[0;34m\u001b[0m\u001b[0m\n",
      "\u001b[0;32m/Users/douglasstrodtman/anaconda3/lib/python3.6/site-packages/pandas/core/generic.py\u001b[0m in \u001b[0;36m_get_item_cache\u001b[0;34m(self, item)\u001b[0m\n\u001b[1;32m   1384\u001b[0m         \u001b[0mres\u001b[0m \u001b[0;34m=\u001b[0m \u001b[0mcache\u001b[0m\u001b[0;34m.\u001b[0m\u001b[0mget\u001b[0m\u001b[0;34m(\u001b[0m\u001b[0mitem\u001b[0m\u001b[0;34m)\u001b[0m\u001b[0;34m\u001b[0m\u001b[0m\n\u001b[1;32m   1385\u001b[0m         \u001b[0;32mif\u001b[0m \u001b[0mres\u001b[0m \u001b[0;32mis\u001b[0m \u001b[0;32mNone\u001b[0m\u001b[0;34m:\u001b[0m\u001b[0;34m\u001b[0m\u001b[0m\n\u001b[0;32m-> 1386\u001b[0;31m             \u001b[0mvalues\u001b[0m \u001b[0;34m=\u001b[0m \u001b[0mself\u001b[0m\u001b[0;34m.\u001b[0m\u001b[0m_data\u001b[0m\u001b[0;34m.\u001b[0m\u001b[0mget\u001b[0m\u001b[0;34m(\u001b[0m\u001b[0mitem\u001b[0m\u001b[0;34m)\u001b[0m\u001b[0;34m\u001b[0m\u001b[0m\n\u001b[0m\u001b[1;32m   1387\u001b[0m             \u001b[0mres\u001b[0m \u001b[0;34m=\u001b[0m \u001b[0mself\u001b[0m\u001b[0;34m.\u001b[0m\u001b[0m_box_item_values\u001b[0m\u001b[0;34m(\u001b[0m\u001b[0mitem\u001b[0m\u001b[0;34m,\u001b[0m \u001b[0mvalues\u001b[0m\u001b[0;34m)\u001b[0m\u001b[0;34m\u001b[0m\u001b[0m\n\u001b[1;32m   1388\u001b[0m             \u001b[0mcache\u001b[0m\u001b[0;34m[\u001b[0m\u001b[0mitem\u001b[0m\u001b[0;34m]\u001b[0m \u001b[0;34m=\u001b[0m \u001b[0mres\u001b[0m\u001b[0;34m\u001b[0m\u001b[0m\n",
      "\u001b[0;32m/Users/douglasstrodtman/anaconda3/lib/python3.6/site-packages/pandas/core/internals.py\u001b[0m in \u001b[0;36mget\u001b[0;34m(self, item, fastpath)\u001b[0m\n\u001b[1;32m   3541\u001b[0m \u001b[0;34m\u001b[0m\u001b[0m\n\u001b[1;32m   3542\u001b[0m             \u001b[0;32mif\u001b[0m \u001b[0;32mnot\u001b[0m \u001b[0misnull\u001b[0m\u001b[0;34m(\u001b[0m\u001b[0mitem\u001b[0m\u001b[0;34m)\u001b[0m\u001b[0;34m:\u001b[0m\u001b[0;34m\u001b[0m\u001b[0m\n\u001b[0;32m-> 3543\u001b[0;31m                 \u001b[0mloc\u001b[0m \u001b[0;34m=\u001b[0m \u001b[0mself\u001b[0m\u001b[0;34m.\u001b[0m\u001b[0mitems\u001b[0m\u001b[0;34m.\u001b[0m\u001b[0mget_loc\u001b[0m\u001b[0;34m(\u001b[0m\u001b[0mitem\u001b[0m\u001b[0;34m)\u001b[0m\u001b[0;34m\u001b[0m\u001b[0m\n\u001b[0m\u001b[1;32m   3544\u001b[0m             \u001b[0;32melse\u001b[0m\u001b[0;34m:\u001b[0m\u001b[0;34m\u001b[0m\u001b[0m\n\u001b[1;32m   3545\u001b[0m                 \u001b[0mindexer\u001b[0m \u001b[0;34m=\u001b[0m \u001b[0mnp\u001b[0m\u001b[0;34m.\u001b[0m\u001b[0marange\u001b[0m\u001b[0;34m(\u001b[0m\u001b[0mlen\u001b[0m\u001b[0;34m(\u001b[0m\u001b[0mself\u001b[0m\u001b[0;34m.\u001b[0m\u001b[0mitems\u001b[0m\u001b[0;34m)\u001b[0m\u001b[0;34m)\u001b[0m\u001b[0;34m[\u001b[0m\u001b[0misnull\u001b[0m\u001b[0;34m(\u001b[0m\u001b[0mself\u001b[0m\u001b[0;34m.\u001b[0m\u001b[0mitems\u001b[0m\u001b[0;34m)\u001b[0m\u001b[0;34m]\u001b[0m\u001b[0;34m\u001b[0m\u001b[0m\n",
      "\u001b[0;32m/Users/douglasstrodtman/anaconda3/lib/python3.6/site-packages/pandas/indexes/base.py\u001b[0m in \u001b[0;36mget_loc\u001b[0;34m(self, key, method, tolerance)\u001b[0m\n\u001b[1;32m   2134\u001b[0m                 \u001b[0;32mreturn\u001b[0m \u001b[0mself\u001b[0m\u001b[0;34m.\u001b[0m\u001b[0m_engine\u001b[0m\u001b[0;34m.\u001b[0m\u001b[0mget_loc\u001b[0m\u001b[0;34m(\u001b[0m\u001b[0mkey\u001b[0m\u001b[0;34m)\u001b[0m\u001b[0;34m\u001b[0m\u001b[0m\n\u001b[1;32m   2135\u001b[0m             \u001b[0;32mexcept\u001b[0m \u001b[0mKeyError\u001b[0m\u001b[0;34m:\u001b[0m\u001b[0;34m\u001b[0m\u001b[0m\n\u001b[0;32m-> 2136\u001b[0;31m                 \u001b[0;32mreturn\u001b[0m \u001b[0mself\u001b[0m\u001b[0;34m.\u001b[0m\u001b[0m_engine\u001b[0m\u001b[0;34m.\u001b[0m\u001b[0mget_loc\u001b[0m\u001b[0;34m(\u001b[0m\u001b[0mself\u001b[0m\u001b[0;34m.\u001b[0m\u001b[0m_maybe_cast_indexer\u001b[0m\u001b[0;34m(\u001b[0m\u001b[0mkey\u001b[0m\u001b[0;34m)\u001b[0m\u001b[0;34m)\u001b[0m\u001b[0;34m\u001b[0m\u001b[0m\n\u001b[0m\u001b[1;32m   2137\u001b[0m \u001b[0;34m\u001b[0m\u001b[0m\n\u001b[1;32m   2138\u001b[0m         \u001b[0mindexer\u001b[0m \u001b[0;34m=\u001b[0m \u001b[0mself\u001b[0m\u001b[0;34m.\u001b[0m\u001b[0mget_indexer\u001b[0m\u001b[0;34m(\u001b[0m\u001b[0;34m[\u001b[0m\u001b[0mkey\u001b[0m\u001b[0;34m]\u001b[0m\u001b[0;34m,\u001b[0m \u001b[0mmethod\u001b[0m\u001b[0;34m=\u001b[0m\u001b[0mmethod\u001b[0m\u001b[0;34m,\u001b[0m \u001b[0mtolerance\u001b[0m\u001b[0;34m=\u001b[0m\u001b[0mtolerance\u001b[0m\u001b[0;34m)\u001b[0m\u001b[0;34m\u001b[0m\u001b[0m\n",
      "\u001b[0;32mpandas/index.pyx\u001b[0m in \u001b[0;36mpandas.index.IndexEngine.get_loc (pandas/index.c:4433)\u001b[0;34m()\u001b[0m\n",
      "\u001b[0;32mpandas/index.pyx\u001b[0m in \u001b[0;36mpandas.index.IndexEngine.get_loc (pandas/index.c:4279)\u001b[0;34m()\u001b[0m\n",
      "\u001b[0;32mpandas/src/hashtable_class_helper.pxi\u001b[0m in \u001b[0;36mpandas.hashtable.PyObjectHashTable.get_item (pandas/hashtable.c:13742)\u001b[0;34m()\u001b[0m\n",
      "\u001b[0;32mpandas/src/hashtable_class_helper.pxi\u001b[0m in \u001b[0;36mpandas.hashtable.PyObjectHashTable.get_item (pandas/hashtable.c:13696)\u001b[0;34m()\u001b[0m\n",
      "\u001b[0;31mKeyError\u001b[0m: 'record_id'"
     ]
    }
   ],
   "source": [
    "# Index through subs and change record_id to match up to those with associated nlr_id\n",
    "for sub in scr.index:\n",
    "    # select the screening info for current sub\n",
    "    temp_scr= scr.loc[scr.index==sub]\n",
    "    # Request nlr_id for current sub\n",
    "    nlr_input = input(\"Enter nlr_id for {} {}: \".format(scr.first_name[sub], scr.last_name[sub]))\n",
    "    # select the id data from the id_key for this sub\n",
    "    temp_id = id_key.loc[id_key['nlr_id']==nlr_input]\n",
    "    # append the record_id from the temp_id\n",
    "    temp_scr['record_id'] = temp_id.record_id[temp_id.index[0]]\n",
    "    # set this record_id for the index in both\n",
    "    temp_scr.set_index('record_id', inplace=True)\n",
    "    temp_id.set_index('record_id', inplace=True)\n",
    "    # combine this data\n",
    "    comb_sub = pd.concat([temp_id, temp_scr], axis=1)\n",
    "    fixed_id = fixed_id.append(comb_sub)\n"
   ]
  },
  {
   "cell_type": "code",
   "execution_count": 289,
   "metadata": {
    "collapsed": false
   },
   "outputs": [
    {
     "data": {
      "text/html": [
       "<div>\n",
       "<table border=\"1\" class=\"dataframe\">\n",
       "  <thead>\n",
       "    <tr style=\"text-align: right;\">\n",
       "      <th></th>\n",
       "      <th>adhd_dx</th>\n",
       "      <th>adult</th>\n",
       "      <th>age</th>\n",
       "      <th>age_months</th>\n",
       "      <th>are_you</th>\n",
       "      <th>are_you_cap</th>\n",
       "      <th>aud_dis</th>\n",
       "      <th>aud_dis_dx___1</th>\n",
       "      <th>aud_dis_dx___2</th>\n",
       "      <th>aud_dis_dx___3</th>\n",
       "      <th>...</th>\n",
       "      <th>you_are</th>\n",
       "      <th>you_are_cap</th>\n",
       "      <th>you_cap</th>\n",
       "      <th>you_have</th>\n",
       "      <th>you_have_cap</th>\n",
       "      <th>you_or_your</th>\n",
       "      <th>you_or_your_cap</th>\n",
       "      <th>your</th>\n",
       "      <th>your_cap</th>\n",
       "      <th>zip</th>\n",
       "    </tr>\n",
       "    <tr>\n",
       "      <th>record_id</th>\n",
       "      <th></th>\n",
       "      <th></th>\n",
       "      <th></th>\n",
       "      <th></th>\n",
       "      <th></th>\n",
       "      <th></th>\n",
       "      <th></th>\n",
       "      <th></th>\n",
       "      <th></th>\n",
       "      <th></th>\n",
       "      <th></th>\n",
       "      <th></th>\n",
       "      <th></th>\n",
       "      <th></th>\n",
       "      <th></th>\n",
       "      <th></th>\n",
       "      <th></th>\n",
       "      <th></th>\n",
       "      <th></th>\n",
       "      <th></th>\n",
       "      <th></th>\n",
       "    </tr>\n",
       "  </thead>\n",
       "  <tbody>\n",
       "    <tr>\n",
       "      <th>103</th>\n",
       "      <td>0</td>\n",
       "      <td>1</td>\n",
       "      <td>21.043439176255</td>\n",
       "      <td>252.49534603592</td>\n",
       "      <td>0</td>\n",
       "      <td>0</td>\n",
       "      <td>0</td>\n",
       "      <td>0</td>\n",
       "      <td>0</td>\n",
       "      <td>0</td>\n",
       "      <td>...</td>\n",
       "      <td>0</td>\n",
       "      <td>0</td>\n",
       "      <td>0</td>\n",
       "      <td>0</td>\n",
       "      <td>0</td>\n",
       "      <td>0</td>\n",
       "      <td>0</td>\n",
       "      <td>0</td>\n",
       "      <td>0</td>\n",
       "      <td>98122</td>\n",
       "    </tr>\n",
       "  </tbody>\n",
       "</table>\n",
       "<p>1 rows × 156 columns</p>\n",
       "</div>"
      ],
      "text/plain": [
       "          adhd_dx adult              age       age_months are_you are_you_cap  \\\n",
       "record_id                                                                       \n",
       "103             0     1  21.043439176255  252.49534603592       0           0   \n",
       "\n",
       "          aud_dis aud_dis_dx___1 aud_dis_dx___2 aud_dis_dx___3  ...   you_are  \\\n",
       "record_id                                                       ...             \n",
       "103             0              0              0              0  ...         0   \n",
       "\n",
       "          you_are_cap you_cap you_have you_have_cap you_or_your  \\\n",
       "record_id                                                         \n",
       "103                 0       0        0            0           0   \n",
       "\n",
       "          you_or_your_cap your your_cap    zip  \n",
       "record_id                                       \n",
       "103                     0    0        0  98122  \n",
       "\n",
       "[1 rows x 156 columns]"
      ]
     },
     "execution_count": 289,
     "metadata": {},
     "output_type": "execute_result"
    }
   ],
   "source": [
    "fixed_id"
   ]
  },
  {
   "cell_type": "code",
   "execution_count": 269,
   "metadata": {
    "collapsed": false
   },
   "outputs": [],
   "source": [
    "# create dummy email address for repository for ID\n",
    "fixed_id['sid_email']=fixed_id.sid+'@red.cap'"
   ]
  },
  {
   "cell_type": "code",
   "execution_count": 270,
   "metadata": {
    "collapsed": false
   },
   "outputs": [],
   "source": [
    "# create new DataFrame for registry by selecting necessary values\n",
    "reg = pd.DataFrame(fixed_id, columns=['child' , 'adult' ,\n",
    "'teen' , 'who_complete' , 'xx' , 'are_you' , 'are_you_cap' , 'do_you'\n",
    ", 'do_you_cap' , 'have_you' , 'have_you_cap' , 'i_' , 'i_cap' ,\n",
    "'i_have' , 'i_have_cap' , 'my_data' , 'their' , 'their_cap' , 'v_s' ,\n",
    "'were_you' , 'were_you_cap' , 'you' , 'you_cap' , 'you_and_your' ,\n",
    "'you_and_your_cap' , 'you_are' , 'you_are_cap' , 'you_have' ,\n",
    "'you_have_cap' , 'you_or_your' , 'you_or_your_cap' , 'your' ,\n",
    "'your_cap' , 'screening_waiver_complete' , 'first_name' , 'last_name'\n",
    ", 'dob' , 'scr_date' , 'age' , 'age_months' , 'gender' , 'teen_email'\n",
    ", 'teen_phone' , 'parent_first_name' , 'parent_last_name' , 'email' ,\n",
    "'phone' , 'city' , 'state' , 'zip' , 'parent2' , 'parent2_first_name'\n",
    ", 'parent2_last_name' , 'parent2_email' , 'parent2_phone' , 'parent3'\n",
    ", 'parent3_first_name' , 'parent3_last_name' , 'parent3_email' ,\n",
    "'parent3_phone' , 'screening_complete' , 'scr_verified' ,\n",
    "'verify_scr_complete' , 'gc_previous_data' , 'gc_future_data' ,\n",
    "'gc_data_sharing_init' , 'gc_future_contact' , 'gc_family' ,\n",
    "'gc_sub_agree' , 'gc_sub_sig' , 'gc_parent_agree' , 'gc_parent_sig' ,\n",
    "'gc_date' , 'gc_lab' , 'gc_lab_date' , 'subject_id' , 'past_sub' , 'recruiting_status' , \n",
    "'general_consent_complete' , 'co_open' , 'co_datetime' , 'co_who' ,\n",
    "'co_mode' , 'co_speak' , 'co_message' , 'co_email' , 'co_prefer' ,\n",
    "'co_notes' , 'contact_complete' , 'email_name', 'redcap_event_name', 'sid'])\n"
   ]
  },
  {
   "cell_type": "code",
   "execution_count": 271,
   "metadata": {
    "collapsed": false
   },
   "outputs": [],
   "source": [
    "# create new DataFrame for repo\n",
    "repo = pd.DataFrame(fixed_id, columns=['child' , 'adult' ,\n",
    "'teen' , 'who_complete' , 'xx' , 'are_you' , 'are_you_cap' , 'do_you' ,\n",
    "'do_you_cap' , 'have_you' , 'have_you_cap' , 'i_' , 'i_cap' , 'i_have' ,\n",
    "'i_have_cap' , 'my_data' , 'their' , 'their_cap' , 'v_s' , 'were_you' ,\n",
    "'were_you_cap' , 'you' , 'you_cap' , 'you_and_your' , 'you_and_your_cap'\n",
    ", 'you_are' , 'you_are_cap' , 'you_have' , 'you_have_cap' ,\n",
    "'you_or_your' , 'you_or_your_cap' , 'your' , 'your_cap' , 'dob' ,\n",
    "'scr_date' , 'bilingual' , 'languages___1' , 'languages___2' ,\n",
    "'languages___3' , 'languages___4' , 'languages___5' , 'languages___6' ,\n",
    "'languages___7' , 'languages___8' , 'languages___9' , 'languages___10' ,\n",
    "'languages___11' , 'languages___12' , 'languages___13' ,\n",
    "'languages___14' , 'languages___15' , 'languages___16' ,\n",
    "'languages___17' , 'languages___18' , 'languages___19' ,\n",
    "'languages___20' , 'languages___21' , 'languages___98' ,\n",
    "'languages_other' , 'primary_lang' , 'eng_age' , 'eng_daily' ,\n",
    "'speech_dis' , 'speech_dis_dx___1' , 'speech_dis_dx___2' ,\n",
    "'speech_dis_dx___3' , 'speech_dis_dx___4' , 'speech_dis_dx___5' ,\n",
    "'speech_dis_dx___6' , 'speech_dis_dx___98' , 'speech_dis_other' ,\n",
    "'speech_dis_treat' , 'aud_dis' , 'aud_dis_dx___1' , 'aud_dis_dx___2' ,\n",
    "'aud_dis_dx___3' , 'aud_dis_dx___4' , 'aud_dis_dx___5' ,\n",
    "'aud_dis_dx___98' , 'aud_dis_other' , 'aud_dis_treat' , 'dys_dx' ,\n",
    "'dys_treat' , 'reading_rate' , 'adhd_dx' , 'ld_dx' , 'ld_treat' ,\n",
    "'vision_dis' , 'brain_injury' , 'brain_injury_des' , 'brain_injury_cons'\n",
    ", 'psych_dx' , 'meds' , 'scr_metal' , 'scr_mri' , 'screening_complete' ,\n",
    "'scr_verified' , 'subject_id', 'redcap_event_name', 'sid', 'sid_email'])\n"
   ]
  },
  {
   "cell_type": "code",
   "execution_count": 272,
   "metadata": {
    "collapsed": true
   },
   "outputs": [],
   "source": [
    "# write out csv files\n",
    "reg.to_csv(home+'/Downloads/reg_nlr.csv', )\n",
    "repo.to_csv(home+'/Downloads/repo_nlr.csv')\n",
    "xfer.to_csv(home+'/Downloads/xfer_nlr.csv')"
   ]
  }
 ],
 "metadata": {
  "kernelspec": {
   "display_name": "Python 3",
   "language": "python",
   "name": "python3"
  },
  "language_info": {
   "codemirror_mode": {
    "name": "ipython",
    "version": 3
   },
   "file_extension": ".py",
   "mimetype": "text/x-python",
   "name": "python",
   "nbconvert_exporter": "python",
   "pygments_lexer": "ipython3",
   "version": "3.6.0"
  }
 },
 "nbformat": 4,
 "nbformat_minor": 2
}
