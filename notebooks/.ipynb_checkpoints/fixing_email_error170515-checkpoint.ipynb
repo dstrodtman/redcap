{
 "cells": [
  {
   "cell_type": "code",
   "execution_count": 2,
   "metadata": {
    "collapsed": true
   },
   "outputs": [],
   "source": [
    "import pandas as pd\n",
    "import os\n",
    "import glob\n",
    "import sys"
   ]
  },
  {
   "cell_type": "code",
   "execution_count": 19,
   "metadata": {
    "collapsed": true
   },
   "outputs": [],
   "source": [
    "# set home directory so can be used on all OS\n",
    "home = os.path.expanduser('~')\n",
    "\n",
    "# Find most recently exported files from registry and repository\n",
    "# (please note that one could also easily modify script to specify files you wish to use, but as we're trying to minimize RDRP data that's stored on machines, requiring download immediately before and then automating deletion within this script facilitates that end goal)\n",
    "# These should be the same files you'd used to send out the email\n",
    "repo_file = max(glob.iglob(home+'/Downloads/RDRPRepository_DATA_*'), key=os.path.getctime)\n",
    "sub_file = home+'/Downloads/nlr_sublog.csv'"
   ]
  },
  {
   "cell_type": "code",
   "execution_count": 20,
   "metadata": {
    "collapsed": false
   },
   "outputs": [
    {
     "name": "stdout",
     "output_type": "stream",
     "text": [
      "/Users/douglasstrodtman/Downloads/RDRPRepository_DATA_NLR.csv\n",
      "/Users/douglasstrodtman/Downloads/nlr_sublog.csv\n",
      "/Users/douglasstrodtman/Downloads/RDRPRepository_Participants_NLR.csv\n"
     ]
    }
   ],
   "source": [
    "# Printing files to make sure correct files are pointed to\n",
    "print(repo_file)\n",
    "print(sub_file)"
   ]
  },
  {
   "cell_type": "code",
   "execution_count": 5,
   "metadata": {
    "collapsed": false
   },
   "outputs": [],
   "source": [
    "# Load data\n",
    "repo_data = pd.read_csv(repo_file, index_col='nlr_id', dtype=object)\n",
    "sub_data = pd.read_csv(sub_file, index_col=['first_name','last_name'])"
   ]
  },
  {
   "cell_type": "code",
   "execution_count": 8,
   "metadata": {
    "collapsed": true
   },
   "outputs": [],
   "source": [
    "# Load csv files made from terminal text output (remove extraneous text, replace space with comma, rename columns first_name, last_name\n",
    "sent = pd.read_csv('/Users/douglasstrodtman/Desktop/sent.csv', index_col=['first_name','last_name'], dtype=object)\n",
    "registered = pd.read_csv('/Users/douglasstrodtman/Desktop/registered.csv', index_col=['first_name','last_name'], dtype=object)"
   ]
  },
  {
   "cell_type": "code",
   "execution_count": 14,
   "metadata": {
    "collapsed": false,
    "scrolled": true
   },
   "outputs": [],
   "source": [
    "for sub in sent.index:\n",
    "    repo_data.nlr_email_date[sub_data.nlr_id[sub]] = '2017-05-12'"
   ]
  },
  {
   "cell_type": "code",
   "execution_count": 17,
   "metadata": {
    "collapsed": false
   },
   "outputs": [],
   "source": [
    "for sub in registered.index:\n",
    "    repo_data.nlr_reg[sub_data.nlr_id[sub]] = '1'"
   ]
  },
  {
   "cell_type": "code",
   "execution_count": 23,
   "metadata": {
    "collapsed": true
   },
   "outputs": [],
   "source": [
    "# Set record_id as index for import\n",
    "repo_data.set_index('record_id', inplace=True)"
   ]
  },
  {
   "cell_type": "code",
   "execution_count": 24,
   "metadata": {
    "collapsed": true
   },
   "outputs": [],
   "source": [
    "# Write out updated repo_data csv each time in case script crashes\n",
    "repo_data.to_csv(home+'/Downloads/repo_nlr_reg.csv')"
   ]
  },
  {
   "cell_type": "code",
   "execution_count": null,
   "metadata": {
    "collapsed": true
   },
   "outputs": [],
   "source": []
  }
 ],
 "metadata": {
  "kernelspec": {
   "display_name": "Python 3",
   "language": "python",
   "name": "python3"
  },
  "language_info": {
   "codemirror_mode": {
    "name": "ipython",
    "version": 3
   },
   "file_extension": ".py",
   "mimetype": "text/x-python",
   "name": "python",
   "nbconvert_exporter": "python",
   "pygments_lexer": "ipython3",
   "version": "3.6.0"
  }
 },
 "nbformat": 4,
 "nbformat_minor": 2
}
