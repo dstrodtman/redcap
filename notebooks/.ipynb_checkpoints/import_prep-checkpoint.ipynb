{
 "cells": [
  {
   "cell_type": "code",
   "execution_count": 19,
   "metadata": {
    "collapsed": true
   },
   "outputs": [],
   "source": [
    "import pandas as pd\n",
    "import numpy as np"
   ]
  },
  {
   "cell_type": "code",
   "execution_count": 44,
   "metadata": {
    "collapsed": true
   },
   "outputs": [],
   "source": [
    "# load data\n",
    "data = pd.read_csv('/Users/douglasstrodtman/Downloads/nlr.csv')"
   ]
  },
  {
   "cell_type": "code",
   "execution_count": 45,
   "metadata": {
    "collapsed": true
   },
   "outputs": [],
   "source": [
    "# find unique subs that need sid\n",
    "need_sids = pd.isnull(data.sid)"
   ]
  },
  {
   "cell_type": "code",
   "execution_count": 46,
   "metadata": {
    "collapsed": true
   },
   "outputs": [],
   "source": [
    "# insert column for record_id\n",
    "data.insert(1, 'record_id', 0, allow_duplicates=False)"
   ]
  },
  {
   "cell_type": "code",
   "execution_count": 47,
   "metadata": {
    "collapsed": true
   },
   "outputs": [],
   "source": [
    "# set indexing for sid_num to 1\n",
    "sid_num = 1"
   ]
  },
  {
   "cell_type": "code",
   "execution_count": 48,
   "metadata": {
    "collapsed": false
   },
   "outputs": [],
   "source": [
    "# this replaces all the first visit undefined sids with 'foo'\n",
    "for sub in data.index[need_sids]:\n",
    "    if data.Visit[sub] == 1:\n",
    "        if data.Age[sub] < 60:\n",
    "            sid1 = 'D'\n",
    "        elif data.Age[sub] < 72:\n",
    "            sid1 = 'E'\n",
    "        elif data.Age[sub] < 84:\n",
    "            sid1 = 'F'\n",
    "        elif data.Age[sub] < 96:\n",
    "            sid1 = 'G'\n",
    "        elif data.Age[sub] < 108:\n",
    "            sid1 = 'H'\n",
    "        elif data.Age[sub] < 120:\n",
    "            sid1 = 'I'\n",
    "        elif data.Age[sub] < 132:\n",
    "            sid1 = 'J'\n",
    "        elif data.Age[sub] < 144:\n",
    "            sid1 = 'K'\n",
    "        elif data.Age[sub] < 156:\n",
    "            sid1 = 'L'\n",
    "        elif data.Age[sub] < 168:\n",
    "            sid1 = 'M'\n",
    "        elif data.Age[sub] < 216:\n",
    "            sid1 = 'N'\n",
    "        elif data.Age[sub] < 300:\n",
    "            sid1 = 'O'\n",
    "        elif data.Age[sub] < 420:\n",
    "            sid1 = 'P'\n",
    "        elif data.Age[sub] < 540:\n",
    "            sid1 = 'Q'\n",
    "        elif data.Age[sub] < 660:\n",
    "            sid1 = 'R'\n",
    "        elif data.Age[sub] < 780:\n",
    "            sid1 = 'S'\n",
    "        elif data.Age[sub] < 900:\n",
    "            sid1 = 'T'\n",
    "        elif data.Age[sub] < 1020:\n",
    "            sid1 = 'U'\n",
    "        else:\n",
    "            sid1 = 'V'\n",
    "        sid_full = '{}A{}'.format(sid1,str(sid_num).zfill(3))\n",
    "        data.loc[data.Subject==data.Subject[sub],'sid']=sid_full\n",
    "        data.loc[data.Subject==data.Subject[sub],'record_id']=sid_num\n",
    "        sid_num += 1"
   ]
  },
  {
   "cell_type": "code",
   "execution_count": 49,
   "metadata": {
    "collapsed": false
   },
   "outputs": [],
   "source": [
    "# fix record_id for people in current system\n",
    "for sub in data.index[~need_sids]:\n",
    "    if data.record_id[sub] == 0:\n",
    "        temp = data.sid[sub]\n",
    "        data.loc[data.Subject==data.Subject[sub],'record_id']=temp[2:]"
   ]
  },
  {
   "cell_type": "code",
   "execution_count": 50,
   "metadata": {
    "collapsed": false
   },
   "outputs": [],
   "source": [
    "# work with visit nums\n",
    "data.insert(3, 'redcap_event_name', 0, allow_duplicates=False)"
   ]
  },
  {
   "cell_type": "code",
   "execution_count": 51,
   "metadata": {
    "collapsed": false
   },
   "outputs": [],
   "source": [
    "for viz in data.index:\n",
    "    data.loc[data.index==[viz],'redcap_event_name']='visit_{}_arm_1'.format(int(data.Visit[viz]))"
   ]
  },
  {
   "cell_type": "code",
   "execution_count": 52,
   "metadata": {
    "collapsed": false
   },
   "outputs": [],
   "source": [
    "# now to deal with the formatting of the column names; code isn't perfect, but gets job done\n",
    "for old in range(len(data.columns.values)):\n",
    "    new = data.columns.values[old]\n",
    "    data.columns.values[old] = new.lower()"
   ]
  },
  {
   "cell_type": "code",
   "execution_count": 53,
   "metadata": {
    "collapsed": false
   },
   "outputs": [],
   "source": [
    "data.to_csv('~/Downloads/import.csv')"
   ]
  }
 ],
 "metadata": {
  "kernelspec": {
   "display_name": "Python 3",
   "language": "python",
   "name": "python3"
  },
  "language_info": {
   "codemirror_mode": {
    "name": "ipython",
    "version": 3
   },
   "file_extension": ".py",
   "mimetype": "text/x-python",
   "name": "python",
   "nbconvert_exporter": "python",
   "pygments_lexer": "ipython3",
   "version": "3.6.0"
  }
 },
 "nbformat": 4,
 "nbformat_minor": 0
}
