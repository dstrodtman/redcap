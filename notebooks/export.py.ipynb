{
 "cells": [
  {
   "cell_type": "code",
   "execution_count": 103,
   "metadata": {
    "collapsed": true
   },
   "outputs": [],
   "source": [
    "import pandas as pd\n",
    "import numpy as np\n",
    "import os\n",
    "import glob"
   ]
  },
  {
   "cell_type": "code",
   "execution_count": 124,
   "metadata": {
    "collapsed": false
   },
   "outputs": [],
   "source": [
    "# set home directory so can be used on all OS\n",
    "home = os.path.expanduser('~')\n",
    "\n",
    "# find the most recent data file exported from the screening database and set it as the file\n",
    "file = max(glob.iglob(home+'/Downloads/RDRPScreeningDatabas_DATA_*'), key=os.path.getctime)"
   ]
  },
  {
   "cell_type": "code",
   "execution_count": 125,
   "metadata": {
    "collapsed": false
   },
   "outputs": [],
   "source": [
    "# load data using the record_id as the index\n",
    "scr = pd.read_csv(file, index_col='record_id', dtype=object)"
   ]
  },
  {
   "cell_type": "code",
   "execution_count": 106,
   "metadata": {
    "collapsed": false
   },
   "outputs": [],
   "source": [
    "# insert the redcap_event_name and set the value to subject_intake_arm_1 for easy import\n",
    "scr['redcap_event_name'] = 'subject_intake_arm_1'"
   ]
  },
  {
   "cell_type": "code",
   "execution_count": 107,
   "metadata": {
    "collapsed": true
   },
   "outputs": [],
   "source": [
    "# set the sid from the subject_id\n",
    "scr['sid']=scr.subject_id"
   ]
  },
  {
   "cell_type": "code",
   "execution_count": 108,
   "metadata": {
    "collapsed": false
   },
   "outputs": [],
   "source": [
    "# remove spaces from sid\n",
    "for sub in scr.index:\n",
    "    scr.loc[scr.index==[sub],'sid']=str(scr.sid[sub]).replace(\" \", \"\")"
   ]
  },
  {
   "cell_type": "code",
   "execution_count": 109,
   "metadata": {
    "collapsed": true
   },
   "outputs": [],
   "source": [
    "# create dummy email address for repository for ID\n",
    "scr['sid_email']=scr.sid+'@red.cap'"
   ]
  },
  {
   "cell_type": "code",
   "execution_count": 110,
   "metadata": {
    "collapsed": false
   },
   "outputs": [],
   "source": [
    "# create new DataFrame for registry by selecting necessary values\n",
    "reg = pd.DataFrame(scr, columns=['child' , 'adult' ,\n",
    "'teen' , 'who_complete' , 'xx' , 'are_you' , 'are_you_cap' , 'do_you'\n",
    ", 'do_you_cap' , 'have_you' , 'have_you_cap' , 'i_' , 'i_cap' ,\n",
    "'i_have' , 'i_have_cap' , 'my_data' , 'their' , 'their_cap' , 'v_s' ,\n",
    "'were_you' , 'were_you_cap' , 'you' , 'you_cap' , 'you_and_your' ,\n",
    "'you_and_your_cap' , 'you_are' , 'you_are_cap' , 'you_have' ,\n",
    "'you_have_cap' , 'you_or_your' , 'you_or_your_cap' , 'your' ,\n",
    "'your_cap' , 'screening_waiver_complete' , 'first_name' , 'last_name'\n",
    ", 'dob' , 'scr_date' , 'age' , 'age_months' , 'gender' , 'teen_email'\n",
    ", 'teen_phone' , 'parent_first_name' , 'parent_last_name' , 'email' ,\n",
    "'phone' , 'city' , 'state' , 'zip' , 'parent2' , 'parent2_first_name'\n",
    ", 'parent2_last_name' , 'parent2_email' , 'parent2_phone' , 'parent3'\n",
    ", 'parent3_first_name' , 'parent3_last_name' , 'parent3_email' ,\n",
    "'parent3_phone' , 'screening_complete' , 'scr_verified' ,\n",
    "'verify_scr_complete' , 'gc_previous_data' , 'gc_future_data' ,\n",
    "'gc_data_sharing_init' , 'gc_future_contact' , 'gc_family' ,\n",
    "'gc_sub_agree' , 'gc_sub_sig' , 'gc_parent_agree' , 'gc_parent_sig' ,\n",
    "'gc_date' , 'gc_lab' , 'gc_lab_date' , 'subject_id' ,\n",
    "'general_consent_complete' , 'co_open' , 'co_datetime' , 'co_who' ,\n",
    "'co_mode' , 'co_speak' , 'co_message' , 'co_email' , 'co_prefer' ,\n",
    "'co_notes' , 'contact_complete' , 'email_name', 'redcap_event_name', 'sid'])"
   ]
  },
  {
   "cell_type": "code",
   "execution_count": 111,
   "metadata": {
    "collapsed": false
   },
   "outputs": [],
   "source": [
    "# create new DataFrame for repo\n",
    "repo = pd.DataFrame(scr, columns=['child' , 'adult' ,\n",
    "'teen' , 'who_complete' , 'xx' , 'are_you' , 'are_you_cap' , 'do_you' ,\n",
    "'do_you_cap' , 'have_you' , 'have_you_cap' , 'i_' , 'i_cap' , 'i_have' ,\n",
    "'i_have_cap' , 'my_data' , 'their' , 'their_cap' , 'v_s' , 'were_you' ,\n",
    "'were_you_cap' , 'you' , 'you_cap' , 'you_and_your' , 'you_and_your_cap'\n",
    ", 'you_are' , 'you_are_cap' , 'you_have' , 'you_have_cap' ,\n",
    "'you_or_your' , 'you_or_your_cap' , 'your' , 'your_cap' , 'dob' ,\n",
    "'scr_date' , 'bilingual' , 'languages___1' , 'languages___2' ,\n",
    "'languages___3' , 'languages___4' , 'languages___5' , 'languages___6' ,\n",
    "'languages___7' , 'languages___8' , 'languages___9' , 'languages___10' ,\n",
    "'languages___11' , 'languages___12' , 'languages___13' ,\n",
    "'languages___14' , 'languages___15' , 'languages___16' ,\n",
    "'languages___17' , 'languages___18' , 'languages___19' ,\n",
    "'languages___20' , 'languages___21' , 'languages___98' ,\n",
    "'languages_other' , 'primary_lang' , 'eng_age' , 'eng_daily' ,\n",
    "'speech_dis' , 'speech_dis_dx___1' , 'speech_dis_dx___2' ,\n",
    "'speech_dis_dx___3' , 'speech_dis_dx___4' , 'speech_dis_dx___5' ,\n",
    "'speech_dis_dx___6' , 'speech_dis_dx___98' , 'speech_dis_other' ,\n",
    "'speech_dis_treat' , 'aud_dis' , 'aud_dis_dx___1' , 'aud_dis_dx___2' ,\n",
    "'aud_dis_dx___3' , 'aud_dis_dx___4' , 'aud_dis_dx___5' ,\n",
    "'aud_dis_dx___98' , 'aud_dis_other' , 'aud_dis_treat' , 'dys_dx' ,\n",
    "'dys_treat' , 'reading_rate' , 'adhd_dx' , 'ld_dx' , 'ld_treat' ,\n",
    "'vision_dis' , 'brain_injury' , 'brain_injury_des' , 'brain_injury_cons'\n",
    ", 'psych_dx' , 'meds' , 'scr_metal' , 'scr_mri' , 'screening_complete' ,\n",
    "'scr_verified' , 'subject_id', 'redcap_event_name', 'sid', 'sid_email'])\n"
   ]
  },
  {
   "cell_type": "code",
   "execution_count": 112,
   "metadata": {
    "collapsed": true
   },
   "outputs": [],
   "source": [
    "# set all transfer fields to complete\n",
    "scr.reg_xfer=1\n",
    "scr.repo_xfer=1\n",
    "scr.scr_delete=1"
   ]
  },
  {
   "cell_type": "code",
   "execution_count": 113,
   "metadata": {
    "collapsed": false
   },
   "outputs": [],
   "source": [
    "# create new DataFrame to mark subs as transfered\n",
    "xfer =pd.DataFrame(scr, columns=['reg_xfer', 'repo_xfer', 'scr_delete'])"
   ]
  },
  {
   "cell_type": "code",
   "execution_count": 114,
   "metadata": {
    "collapsed": false
   },
   "outputs": [],
   "source": [
    "# write out csv files\n",
    "reg.to_csv(home+'/Downloads/reg.csv')\n",
    "repo.to_csv(home+'/Downloads/repo.csv')\n",
    "xfer.to_csv(home+'/Downloads/xfer.csv')"
   ]
  },
  {
   "cell_type": "code",
   "execution_count": 115,
   "metadata": {
    "collapsed": true
   },
   "outputs": [],
   "source": [
    "# delete the file from which we're working for security!\n",
    "os.remove(file)"
   ]
  }
 ],
 "metadata": {
  "kernelspec": {
   "display_name": "Python 2",
   "language": "python",
   "name": "python2"
  },
  "language_info": {
   "codemirror_mode": {
    "name": "ipython",
    "version": 2
   },
   "file_extension": ".py",
   "mimetype": "text/x-python",
   "name": "python",
   "nbconvert_exporter": "python",
   "pygments_lexer": "ipython2",
   "version": "2.7.11"
  }
 },
 "nbformat": 4,
 "nbformat_minor": 0
}
