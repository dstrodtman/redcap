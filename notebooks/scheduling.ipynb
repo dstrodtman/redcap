{
 "cells": [
  {
   "cell_type": "code",
   "execution_count": 1,
   "metadata": {
    "collapsed": true
   },
   "outputs": [],
   "source": [
    "import pandas as pd\n",
    "import numpy as np\n",
    "import os\n",
    "import glob\n",
    "\n",
    "# set home directory so can be used on all OS\n",
    "home = os.path.expanduser('~')\n",
    "\n",
    "# find the most recent data file exported from the reg and repo and set it as the file\n",
    "reg_file = max(glob.iglob(home+'/Downloads/RDRPRegistry_DATA_*'), key=os.path.getctime)\n",
    "repo_file = max(glob.iglob(home+'/Downloads/RDRPRepository_DATA_*'), key=os.path.getctime)"
   ]
  },
  {
   "cell_type": "code",
   "execution_count": 48,
   "metadata": {
    "collapsed": true
   },
   "outputs": [],
   "source": [
    "# load data using the record_id as the index\n",
    "reg = pd.read_csv(reg_file, index_col='record_id', dtype=object)\n",
    "repo = pd.read_csv(repo_file, index_col='record_id', dtype=object)"
   ]
  },
  {
   "cell_type": "code",
   "execution_count": 7,
   "metadata": {
    "collapsed": false
   },
   "outputs": [],
   "source": [
    "# import time and get current time\n",
    "\n",
    "from time import gmtime, strftime\n",
    "now = strftime(\"%Y-%m-%d %H:%M\", gmtime())"
   ]
  },
  {
   "cell_type": "code",
   "execution_count": 50,
   "metadata": {
    "collapsed": false
   },
   "outputs": [],
   "source": [
    "# find all subs with upcoming appointments\n",
    "upcoming = pd.unique(repo.loc[repo['visit_dt'] >= now].index)"
   ]
  },
  {
   "cell_type": "code",
   "execution_count": 51,
   "metadata": {
    "collapsed": true
   },
   "outputs": [],
   "source": [
    "for sub in reg.index:\n",
    "    if not sub in upcoming:\n",
    "        if reg.ix[sub, 'recruiting_status'] == '2':\n",
    "            reg.ix[sub, 'recruiting_status'] = 0\n",
    "            reg.ix[sub, 'past_sub'] = 1\n",
    "             "
   ]
  },
  {
   "cell_type": "code",
   "execution_count": 52,
   "metadata": {
    "collapsed": false
   },
   "outputs": [],
   "source": [
    "for sub in upcoming:\n",
    "    reg.loc[reg.index == sub, 'recruiting_status']=2\n",
    "    reg.loc[reg.index == sub, 'past_sub'] = 1"
   ]
  },
  {
   "cell_type": "code",
   "execution_count": 54,
   "metadata": {
    "collapsed": true
   },
   "outputs": [],
   "source": [
    "reg.to_csv(home+'/Downloads/sched.csv')"
   ]
  },
  {
   "cell_type": "code",
   "execution_count": null,
   "metadata": {
    "collapsed": true
   },
   "outputs": [],
   "source": []
  }
 ],
 "metadata": {
  "kernelspec": {
   "display_name": "Python 3",
   "language": "python",
   "name": "python3"
  },
  "language_info": {
   "codemirror_mode": {
    "name": "ipython",
    "version": 3
   },
   "file_extension": ".py",
   "mimetype": "text/x-python",
   "name": "python",
   "nbconvert_exporter": "python",
   "pygments_lexer": "ipython3",
   "version": "3.6.0"
  }
 },
 "nbformat": 4,
 "nbformat_minor": 2
}
