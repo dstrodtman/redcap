{
 "cells": [
  {
   "cell_type": "code",
   "execution_count": 1,
   "metadata": {
    "collapsed": true
   },
   "outputs": [],
   "source": [
    "# import necessary modules\n",
    "import smtplib\n",
    "import pandas as pd\n",
    "import os\n",
    "import glob\n",
    "import sys\n",
    "import sched\n",
    "import time\n",
    "from email.mime.multipart import MIMEMultipart\n",
    "from email.mime.text import MIMEText"
   ]
  },
  {
   "cell_type": "code",
   "execution_count": 2,
   "metadata": {
    "collapsed": false
   },
   "outputs": [
    {
     "name": "stdout",
     "output_type": "stream",
     "text": [
      "Would you like to send out the survey queue? y/n y\n",
      "Survey script loaded\n",
      "Please select a subject line for your message:\n",
      "(1) Please complete the attached surveys\n",
      "(2) Greetings from the UW Reading & Dyslexia Research Program\n",
      "(3) New study opportunity with the UW Reading & Dyslexia Research Program\n",
      "(4) Custom\n",
      "Please enter the number of your choice: 1\n",
      "Please enter the name to be used in the signature: Patrick Donnelly\n",
      "Please enter the title of this individual: Graduate Research Assistant\n",
      "Would you like to mark a column in the repository that surveys have been sent? y/n y\n",
      "redcap_event_name\n",
      "sid\n",
      "survey_sent\n",
      "Please type the name of the column you wish you mark: survey_sent\n",
      "Please enter password for rdrp@uw.edu: readingrainier214\n"
     ]
    }
   ],
   "source": [
    "# set home directory so can be used on all OS\n",
    "home = os.path.expanduser('~')\n",
    "\n",
    "# Find most recently exported files from registry and repository\n",
    "# (please note that one could also easily modify script to specify files you wish to use, but as we're trying to minimize RDRP data that's stored on machines, requiring download immediately before and then automating deletion within this script facilitates that end goal)\n",
    "# reg_file should be report XX\n",
    "# repo_file should be report XX\n",
    "# link_file should be downloaded from XX as according to wiki\n",
    "reg_file = max(glob.iglob(home+'/Downloads/RDRPRegistry_DATA_*'), key=os.path.getctime)\n",
    "repo_file = max(glob.iglob(home+'/Downloads/RDRPRepository_DATA_*'), key=os.path.getctime)\n",
    "link_file = max(glob.iglob(home+'/Downloads/RDRPRepository_Participants_*'), key=os.path.getctime)\n",
    "\n",
    "# Load data from each using record_id as index\n",
    "reg_data = pd.read_csv(reg_file, index_col='record_id')\n",
    "repo_data = pd.read_csv(repo_file, index_col='record_id')\n",
    "link_data = pd.read_csv(link_file, skiprows=1, header=None, names=['dummy', 'na', \n",
    "    'record_id', 'd', 'e', 'f', 'survey', 'link'], index_col='record_id', dtype=object) # headers in the file are poorly written. na, d, e, f are all not used \n",
    "\t\n",
    "# Extract links for survey queues\n",
    "reg_data['link'] = link_data.link\n",
    "\n",
    "# And for survey\n",
    "reg_data['survey'] = link_data.survey\n",
    "\n",
    "# Use the repo_data to select which individuals will receive emails\n",
    "subs = pd.DataFrame(reg_data.ix[repo_data.index])\n",
    "\n",
    "# Check to make sure we are sending surveys\n",
    "# Script is set up to take any text formatted according to rules published on wiki\n",
    "if input('Would you like to send out the survey queue? y/n ') == 'y':\n",
    "    form = open(home+'/git/redcap/email_temp/survey.txt')\n",
    "    form = form.read()\n",
    "    sys.stdout.write(\"Survey script loaded\\n\")\n",
    "else:\n",
    "    sys.stdout.write('Select one of the following templates:\\n')\n",
    "    os.system('ls '+home+'/git/redcap/email_temp')\n",
    "    selection = input('Which of the above templates would you like to load? ')\n",
    "    form = open(home+'/git/redcap/email_temp/'+selection)\n",
    "    form = form.read()\n",
    "    sys.stdout.write(selection+' loaded\\n\\n')\n",
    "\t\n",
    "# Check to see what subject line should be used, then set\n",
    "subl_sel = input('Please select a subject line for your message:\\n(1) Please complete the attached surveys\\n(2) Greetings from the UW Reading & Dyslexia Research Program\\n(3) New study opportunity with the UW Reading & Dyslexia Research Program\\n(4) Custom\\nPlease enter the number of your choice: ')\n",
    "if subl_sel == '1':\n",
    "    subl = 'Please complete the attached surveys'\n",
    "elif subl_sel == '2':\n",
    "    subl = 'Greetings from the UW Reading & Dyslexia Research Program'\n",
    "elif subl_sel == '3':\n",
    "    subl = 'New study opportunity UW Reading & Dyslexia Research Program'\n",
    "else:\n",
    "    subl = input('Please enter text for email Subject line: ')\n",
    "\n",
    "# Set the identity of the individual sending the email\n",
    "lab_name = input('Please enter the name to be used in the signature: ')\n",
    "lab_role = input('Please enter the title of this individual: ')\n",
    "\n",
    "# Let user indicate which column to use to mark success of email being sent\n",
    "if input('Would you like to mark a column in the repository that surveys have been sent? y/n ') == 'y':\n",
    "    for column in repo_data.columns:\n",
    "        sys.stdout.write(column+'\\n')\n",
    "    repo_col = input('Please type the name of the column you wish you mark: ')    \n",
    "else:\n",
    "    repo_col = None \n",
    "\n",
    "# Set all features not to be iterated\n",
    "# Originating email\n",
    "from_email = \"rdrp@uw.edu\"\n",
    "\n",
    "# Set up html container to plug text into\n",
    "body = \"\"\"<html>\n",
    "  <head></head>\n",
    "  <body>\n",
    "    <p>{}\n",
    "    </p>\n",
    "  </body>\n",
    "</html>\n",
    "\"\"\"\n",
    "\n",
    "# Query for password and assign to variable\n",
    "pswd = input('Please enter password for {}: '.format(from_email))\n"
   ]
  },
  {
   "cell_type": "code",
   "execution_count": null,
   "metadata": {
    "collapsed": false
   },
   "outputs": [],
   "source": []
  },
  {
   "cell_type": "code",
   "execution_count": null,
   "metadata": {
    "collapsed": true
   },
   "outputs": [],
   "source": []
  }
 ],
 "metadata": {
  "kernelspec": {
   "display_name": "Python 3",
   "language": "python",
   "name": "python3"
  },
  "language_info": {
   "codemirror_mode": {
    "name": "ipython",
    "version": 3
   },
   "file_extension": ".py",
   "mimetype": "text/x-python",
   "name": "python",
   "nbconvert_exporter": "python",
   "pygments_lexer": "ipython3",
   "version": "3.6.0"
  }
 },
 "nbformat": 4,
 "nbformat_minor": 2
}
