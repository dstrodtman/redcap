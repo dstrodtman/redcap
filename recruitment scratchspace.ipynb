{
 "cells": [
  {
   "cell_type": "code",
   "execution_count": 1,
   "metadata": {},
   "outputs": [],
   "source": [
    "# import necessary databases and libraries\n",
    "import pycurl,json,requests,sys,os\n",
    "import pandas as pd\n",
    "import numpy as np\n",
    "# existing redcap API stipulates StringIO, but pycurl now works with BytesIO\n",
    "from io import BytesIO\n",
    "# this is where the supplementary function apidelete_records() is stored\n",
    "import utils\n",
    "\n",
    "#where would you like the data to be stored\n",
    "#this is initialized to the downloads to prevent storage on github repo\n",
    "data_folder = os.path.expanduser('~/Downloads/')\n",
    "desktop = os.path.expanduser('~/OneDrive/Desktop/')\n",
    "\n",
    "token1_file = 'repo_apitoken.txt'\n",
    "token2_file = 'reg_apitoken.txt'\n",
    "\n",
    "if token1_file is not None:\n",
    "    token1_path = os.path.join(desktop, token1_file)\n",
    "    if os.path.exists(token1_path):\n",
    "        with open(token1_path, 'r') as myfile:\n",
    "            token1=myfile.read().replace('\\n', '')\n",
    "else:\n",
    "    token1 = input('What is the repository API token? ')\n",
    "\n",
    "if token2_file is not None:\n",
    "    token2_path = os.path.join(desktop, token2_file)\n",
    "    if os.path.exists(token2_path):\n",
    "        with open(token2_path, 'r') as myfile:\n",
    "            token2=myfile.read().replace('\\n', '')\n",
    "else:\n",
    "    token2 = input('What is the registry API token? ')"
   ]
  },
  {
   "cell_type": "code",
   "execution_count": 2,
   "metadata": {},
   "outputs": [],
   "source": [
    "# say which repository report you want\n",
    "# report 25085 is the report in the repository called \"PIGS Recruitment\"\n",
    "pigs_report = {\n",
    "    'token': token1,\n",
    "    'content': 'report',\n",
    "    'format': 'csv',\n",
    "    'report_id': '16017',\n",
    "    'rawOrLabel': 'raw',\n",
    "    'rawOrLabelHeaders': 'raw',\n",
    "    'exportCheckboxLabel': 'false',\n",
    "    'returnFormat': 'csv'\n",
    "}\n",
    "\n",
    "# say which registry report you want\n",
    "# report 12929 is the report in the registry  called \"Emails\"\n",
    "emails_report = {\n",
    "    'token': token2,\n",
    "    'content': 'report',\n",
    "    'format': 'csv',\n",
    "    'report_id': '12929',\n",
    "    'rawOrLabel': 'raw',\n",
    "    'rawOrLabelHeaders': 'raw',\n",
    "    'exportCheckboxLabel': 'false',\n",
    "    'returnFormat': 'csv'\n",
    "}"
   ]
  },
  {
   "cell_type": "code",
   "execution_count": 3,
   "metadata": {},
   "outputs": [],
   "source": [
    "redcap_path = 'https://redcap.iths.org/api/'\n",
    "repo_list = requests.post(redcap_path, data=pigs_report)\n",
    "emails = requests.post(redcap_path, data=emails_report)"
   ]
  },
  {
   "cell_type": "code",
   "execution_count": 4,
   "metadata": {},
   "outputs": [],
   "source": [
    "repo_filename =os.path.join(data_folder,'pigs_repo.csv')\n",
    "\n",
    "with open(repo_filename, 'w') as repo_file:\n",
    "        repo_file.write(repo_list.text)\n",
    "\n",
    "emails_filename = os.path.join(data_folder,'pigs_emails.csv')\n",
    "\n",
    "with open(emails_filename, 'w') as email_file:\n",
    "        email_file.write(emails.text)"
   ]
  },
  {
   "cell_type": "code",
   "execution_count": 5,
   "metadata": {},
   "outputs": [],
   "source": [
    "pigs_repo_data = pd.read_csv(repo_filename,encoding='latin-1')\n",
    "email_data = pd.read_csv(emails_filename,encoding='latin-1')"
   ]
  },
  {
   "cell_type": "code",
   "execution_count": 6,
   "metadata": {},
   "outputs": [],
   "source": [
    "combined = pigs_repo_data.set_index('record_id').\\\n",
    "join(email_data.set_index('record_id'),\n",
    "lsuffix='_repo', rsuffix='_reg')\n",
    "\n",
    "combined.to_csv(os.path.join(data_folder,'combined.csv'))"
   ]
  },
  {
   "cell_type": "code",
   "execution_count": null,
   "metadata": {},
   "outputs": [],
   "source": []
  }
 ],
 "metadata": {
  "kernelspec": {
   "display_name": "Python 3",
   "language": "python",
   "name": "python3"
  },
  "language_info": {
   "codemirror_mode": {
    "name": "ipython",
    "version": 3
   },
   "file_extension": ".py",
   "mimetype": "text/x-python",
   "name": "python",
   "nbconvert_exporter": "python",
   "pygments_lexer": "ipython3",
   "version": "3.7.4"
  }
 },
 "nbformat": 4,
 "nbformat_minor": 2
}
